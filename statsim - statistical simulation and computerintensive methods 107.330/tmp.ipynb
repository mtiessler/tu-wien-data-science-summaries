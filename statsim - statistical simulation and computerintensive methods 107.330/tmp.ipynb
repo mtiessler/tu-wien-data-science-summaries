{
 "cells": [
  {
   "cell_type": "code",
   "execution_count": 44,
   "metadata": {
    "vscode": {
     "languageId": "r"
    }
   },
   "outputs": [],
   "source": [
    "deps <- c(\"ggplot2\")\n",
    "for (p in deps) {\n",
    "  if (!requireNamespace(p, quietly = TRUE)) {\n",
    "    install.packages(p, repos = \"https://cran.rstudio.com\", dependencies = TRUE)\n",
    "  }\n",
    "  library(p, character.only = TRUE)\n",
    "}\n",
    "\n",
    "set.seed(11912007)\n",
    "options(scipen=999)"
   ]
  },
  {
   "cell_type": "code",
   "execution_count": 45,
   "metadata": {
    "vscode": {
     "languageId": "r"
    }
   },
   "outputs": [
    {
     "name": "stdout",
     "output_type": "stream",
     "text": [
      "libpath: /Users/sueszli/.asdf/installs/R/4.4.1/lib/R/library \n",
      "version: R version 4.4.1 (2024-06-14) \n",
      "platform: aarch64-apple-darwin23.6.0 \n",
      "arch: aarch64 \n",
      "os: darwin23.6.0 \n",
      "system: aarch64, darwin23.6.0 \n"
     ]
    },
    {
     "name": "stderr",
     "output_type": "stream",
     "text": [
      "Warning message in install.packages(\"https://cran.r-project.org/src/contrib/Archive/DPpackage/DPpackage_1.1-7.4.tar.gz\", :\n",
      "“installation of package ‘/var/folders/p6/sy85mkz13lsffnvz7237y4340000gn/T//Rtmp9Xyg1z/downloaded_packages/DPpackage_1.1-7.4.tar.gz’ had non-zero exit status”\n",
      "Warning message in install.packages(\"DPpackage_1.1-7.4.tar.gz\", repos = NULL, type = \"source\"):\n",
      "“installation of package ‘DPpackage_1.1-7.4.tar.gz’ had non-zero exit status”\n"
     ]
    }
   ],
   "source": [
    "cat(\"libpath:\", .libPaths(), \"\\n\")\n",
    "cat(\"version:\", R.version.string, \"\\n\")\n",
    "cat(\"platform:\", R.version$platform, \"\\n\")\n",
    "cat(\"arch:\", R.version$arch, \"\\n\")\n",
    "cat(\"os:\", R.version$os, \"\\n\")\n",
    "cat(\"system:\", R.version$system, \"\\n\")\n",
    "\n",
    "install.packages(\"https://cran.r-project.org/src/contrib/Archive/DPpackage/DPpackage_1.1-7.4.tar.gz\", repos = NULL, type = \"source\")\n",
    "\n",
    "download.file(\"https://cran.r-project.org/src/contrib/Archive/DPpackage/DPpackage_1.1-7.4.tar.gz\", \"DPpackage_1.1-7.4.tar.gz\")\n",
    "install.packages(\"DPpackage_1.1-7.4.tar.gz\", repos = NULL, type = \"source\")\n"
   ]
  },
  {
   "cell_type": "code",
   "execution_count": null,
   "metadata": {
    "vscode": {
     "languageId": "r"
    }
   },
   "outputs": [],
   "source": []
  }
 ],
 "metadata": {
  "kernelspec": {
   "display_name": "R",
   "language": "R",
   "name": "ir"
  },
  "language_info": {
   "codemirror_mode": "r",
   "file_extension": ".r",
   "mimetype": "text/x-r-source",
   "name": "R",
   "pygments_lexer": "r",
   "version": "4.4.1"
  }
 },
 "nbformat": 4,
 "nbformat_minor": 2
}
