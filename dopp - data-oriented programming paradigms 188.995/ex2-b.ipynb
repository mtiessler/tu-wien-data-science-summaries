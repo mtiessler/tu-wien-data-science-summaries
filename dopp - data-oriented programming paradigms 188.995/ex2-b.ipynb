{
 "cells": [
  {
   "cell_type": "markdown",
   "metadata": {
    "deletable": false,
    "editable": false,
    "id": "tL620UDQuJf-",
    "nbgrader": {
     "cell_type": "markdown",
     "checksum": "ebd3fa07aa9c3ec4bbd7cdd15ed95bac",
     "grade": false,
     "grade_id": "cell-f3edff376e95832e",
     "locked": true,
     "schema_version": 3,
     "solution": false,
     "task": false
    }
   },
   "source": [
    "# Exercise 1 notebook B\n",
    "\n",
    "The submission deadline is **25.11.2024 23:55.**"
   ]
  },
  {
   "cell_type": "markdown",
   "metadata": {
    "deletable": false,
    "editable": false,
    "nbgrader": {
     "cell_type": "markdown",
     "checksum": "5bde2c0c8bcac0c17af1455df3c2ace2",
     "grade": false,
     "grade_id": "cell-2bcf342902505f56",
     "locked": true,
     "schema_version": 3,
     "solution": false,
     "task": false
    }
   },
   "source": [
    "Please write your own student_id in the same format as in the example (especially using the same variable name) where it says \"YOUR CODE HERE\"."
   ]
  },
  {
   "cell_type": "code",
   "execution_count": 1,
   "metadata": {
    "deletable": false,
    "nbgrader": {
     "cell_type": "code",
     "checksum": "74e1b57ac01d1d615e530f683ea815e9",
     "grade": false,
     "grade_id": "cell-6cbe68bd48add763",
     "locked": false,
     "schema_version": 3,
     "solution": true,
     "task": false
    },
    "revert": "# Please enter your student ID here\nstudent_id = None\n# YOUR CODE HERE\nraise NotImplementedError()"
   },
   "outputs": [],
   "source": [
    "#\n",
    "# <<< INSERT CODE HERE >>>\n",
    "#\n",
    "\n",
    "# Please enter your student ID here\n",
    "student_id = 11912007"
   ]
  },
  {
   "cell_type": "markdown",
   "metadata": {
    "deletable": false,
    "editable": false,
    "nbgrader": {
     "cell_type": "markdown",
     "checksum": "d13c41c1fe82fe440f863f99ee698229",
     "grade": false,
     "grade_id": "cell-79afb79f918931a8",
     "locked": true,
     "schema_version": 3,
     "solution": false,
     "task": false
    }
   },
   "source": [
    "## Task Description    \n",
    "    \n",
    "This is the second part of the exercise. For better comparability, please load our prepared data for solving this exercise and do not use the dataset that you created in Part 1A.\n",
    "\n",
    "The goal of this exercise is to train a machine learning (ML) model on the data we prepared in the first notebook. The goal of the model is to predict the type of disruption (`disruption`) given the features (all other columns, like temperature etc.).\n",
    "\n",
    "First we will visualize the data to get a better understanding, then we will identify suitable machine learning methods and train a model.\n",
    "Finally we will test the trained ML model on a holdout test dataset.\n",
    "\n",
    "Out of the total 100 points, this notebook makes up for 45 points.\n",
    "\n",
    "**Notebook A (data preparation), 55 points:**\n",
    " - Task 1: 20 points\n",
    " - Task 2: 15 points\n",
    " - Task 3: 10 points\n",
    " - Task 4: 5 points\n",
    " - Task 5: 5 points\n",
    "\n",
    "**Notebook B (this notebook), 45 points:**\n",
    " - Task 6: 15 points (Visualization)\n",
    " - Task 7: 25 points (Train models)\n",
    " - Task 8: 5 points (Test models)"
   ]
  },
  {
   "cell_type": "markdown",
   "metadata": {
    "deletable": false,
    "editable": false,
    "id": "_bcTP5m3mSZN",
    "nbgrader": {
     "cell_type": "markdown",
     "checksum": "fd00a6b6e9955c23a764cc3ab6347c5e",
     "grade": false,
     "grade_id": "cell-99532593af725dd2",
     "locked": true,
     "schema_version": 3,
     "solution": false,
     "task": false
    }
   },
   "source": [
    "## Setup Python and load data\n",
    "Import necessary Python modules and load the preprocessed data from the shared folder.\n",
    "\n",
    "### Add imports"
   ]
  },
  {
   "cell_type": "code",
   "execution_count": 2,
   "metadata": {
    "deletable": false,
    "editable": false,
    "hidden": true,
    "id": "5FCqq4N2uJgD",
    "nbgrader": {
     "cell_type": "code",
     "checksum": "3d54989c59651481f326aeb1ff3d4848",
     "grade": false,
     "grade_id": "cell-6939c5948ddf8595",
     "locked": true,
     "schema_version": 3,
     "solution": false,
     "task": false
    }
   },
   "outputs": [],
   "source": [
    "# Note: Use only the libraries below. You can import members (e.g. functions) from these libraries in your code.\n",
    "\n",
    "import numpy as np\n",
    "import pandas as pd\n",
    "import glob\n",
    "import os\n",
    "import matplotlib.pyplot as plt\n",
    "import seaborn as sns\n",
    "import datetime\n",
    "import pickle\n",
    "import sklearn\n",
    "\n",
    "import typing"
   ]
  },
  {
   "cell_type": "markdown",
   "metadata": {
    "deletable": false,
    "editable": false,
    "id": "75gJWkeml7mA",
    "nbgrader": {
     "cell_type": "markdown",
     "checksum": "119a6559f7fce0c434e8320c9e77f380",
     "grade": false,
     "grade_id": "cell-4c30166dc8d40e05",
     "locked": true,
     "schema_version": 3,
     "solution": false,
     "task": false
    }
   },
   "source": [
    "### Load data\n",
    "Load the preprocessed data from the shared folder: "
   ]
  },
  {
   "cell_type": "code",
   "execution_count": 3,
   "metadata": {
    "colab": {
     "base_uri": "https://localhost:8080/"
    },
    "deletable": false,
    "editable": false,
    "id": "Ei-00OOVuJZL",
    "nbgrader": {
     "cell_type": "code",
     "checksum": "bf0037049c4cd88eb5645ca72ff84f77",
     "grade": false,
     "grade_id": "cell-ae4a325c64a59f6e",
     "locked": true,
     "schema_version": 3,
     "solution": false,
     "task": false
    },
    "outputId": "0c1f015e-6fe2-48ef-b222-3508750490e8"
   },
   "outputs": [],
   "source": [
    "with open(os.path.join(os.environ[\"HOME\"], \"shared\", \"188.995-2024W\", \"data\", \"data_processed.pickle\"),\"rb\") as fp:\n",
    "     data_processed = pickle.load(fp)"
   ]
  },
  {
   "cell_type": "markdown",
   "metadata": {
    "deletable": false,
    "editable": false,
    "nbgrader": {
     "cell_type": "markdown",
     "checksum": "5114d4f7793bdd24b76d15934d7663f6",
     "grade": false,
     "grade_id": "cell-c1cb9dba86a1da93",
     "locked": true,
     "schema_version": 3,
     "solution": false,
     "task": false
    }
   },
   "source": [
    "As you know from the previous exercise, our data is not in a good state and needs some cleaning. Same holds true in this case. In the disruption column we have different descriptions meaning the same thing. With the following code we can group these things together to get a much clearer picture:"
   ]
  },
  {
   "cell_type": "code",
   "execution_count": 4,
   "metadata": {
    "deletable": false,
    "editable": false,
    "nbgrader": {
     "cell_type": "code",
     "checksum": "036a9d1a2476d81977146995e88e503e",
     "grade": false,
     "grade_id": "cell-9e4005939fb52363",
     "locked": true,
     "schema_version": 3,
     "solution": false,
     "task": false
    }
   },
   "outputs": [],
   "source": [
    "# mapping dictionary\n",
    "\n",
    "mapping = {\n",
    "    'Polizeieinsatz': 'Operation',\n",
    "    'Rettungseinsatz': 'Operation',\n",
    "    'Polizeieinsatz Verspätungen': 'Operation',\n",
    "    'Feuerwehreinsatz': 'Operation',\n",
    "    'Rettungseinsatz Verspätungen': 'Operation',\n",
    "    'Schadhaftes Fahrzeug': 'Vehicle in poor condition',\n",
    "    'Schadhaftes Fahrzeug Verspätungen': 'Vehicle in poor condition',\n",
    "    'Wagengebrechen': 'Vehicle in poor condition',\n",
    "    'Schadhafter Zug': 'Vehicle in poor condition',\n",
    "    'Fahrzeug Verspätungen': 'Vehicle in poor condition',\n",
    "    'Fahrzeug': 'Vehicle in poor condition',\n",
    "    'erhöhtes Fahrgastaufkommen': 'Increased passenger volume',\n",
    "    'Erhöhtes Fahrgastaufkommen': 'Increased passenger volume',\n",
    "    'erhöhtes Fahrgastaufkommen Verspätungen': 'Increased passenger volume',\n",
    "    'Verspätungen': 'Delay',\n",
    "    'Verspätung': 'Delay',\n",
    "    'Verkehrsunfall Verspätungen': 'Traffic accident',\n",
    "    'Verkehrsunfall': 'Traffic accident',\n",
    "    'Fremder Verkehrsunfall': 'Traffic accident',\n",
    "    'Fremder Verkehrsunfall Verspätungen': 'Traffic accident',\n",
    "    'Verkehrsstörung Verspätungen': 'Traffic jam',\n",
    "    'Verkehrsstörung': 'Traffic jam',\n",
    "    'Verkehrsbedingte Verspätung': 'Traffic jam',\n",
    "    'Verkehrsbedingte ': 'Traffic jam',\n",
    "    'Verkehrsbedingte Verspätungen': 'Traffic jam',\n",
    "    'Verkehrsbedingt': 'Traffic jam',\n",
    "    'Verkehrsbedingt Verspätungen': 'Traffic jam',\n",
    "    'Verkehrsbedingte Verspätung Verspätungenen': 'Traffic jam',\n",
    "    'Verkehrsbedingte Verspätung Verspätungen': 'Traffic jam',\n",
    "    'Veranstaltung': 'Event',\n",
    "    'Vienna': 'Event',\n",
    "    'Vienna-City-Marathon': 'Event',\n",
    "    'Regenbogenparade': 'Event',\n",
    "    'Demonstration': 'Event',\n",
    "    'Staatsbesuch': 'Event',\n",
    "    'Opernball': 'Event',\n",
    "    'Erkrankung eines Fahrgastes': 'Personnel problems',\n",
    "    'Erkrankung eines': 'Personnel problems',\n",
    "    'Erkrankung': 'Personnel problems',\n",
    "    'Fahrleitungsgebrechen': 'General infrastructure',\n",
    "    'Wasserrohrgebrechen': 'General infrastructure',\n",
    "    'Stromstörung': 'General infrastructure',\n",
    "    'Gasrohrgebrechen': 'General infrastructure',\n",
    "    'Gleisschaden': 'Transportation infrastructure',\n",
    "    'Weichenstörung': 'Transportation infrastructure',\n",
    "    'Gleisbauarbeiten': 'Transportation infrastructure',\n",
    "    'Signalstörung': 'Transportation infrastructure',\n",
    "    'Signalstörung Verspätungen': 'Transportation infrastructure',\n",
    "    'Stellwerkstörung': 'Transportation infrastructure',\n",
    "    'Betriebsstörung': 'Operational disruption',\n",
    "    'Betriebseinstellung': 'Operational disruption',\n",
    "    'Fahrtbehinderung': 'Maliciousness',\n",
    "    'Sachbeschädigung': 'Maliciousness',\n",
    "    'Falschparker': 'Maliciousness',\n",
    "    'Witterungsbedingt': 'Weather',\n",
    "    'Sturmschaden': 'Weather',\n",
    "    'Bauarbeiten': 'Construction work',\n",
    "    'Umleitung': 'Construction work',\n",
    "    'Verunreinigung': 'Contamination'\n",
    "}\n",
    "\n",
    "# Use the replace method to update the column\n",
    "data_processed['disruption'] = data_processed['disruption'].replace(mapping)"
   ]
  },
  {
   "cell_type": "markdown",
   "metadata": {
    "deletable": false,
    "editable": false,
    "nbgrader": {
     "cell_type": "markdown",
     "checksum": "09b5df0ca171ce08f81388cbef104c1c",
     "grade": false,
     "grade_id": "cell-93c4fe20dcea16e8",
     "locked": true,
     "schema_version": 3,
     "solution": false,
     "task": false
    }
   },
   "source": [
    "Now transform the values from your target column `disruption` and save the new values in the new column `class`."
   ]
  },
  {
   "cell_type": "code",
   "execution_count": 5,
   "metadata": {
    "deletable": false,
    "nbgrader": {
     "cell_type": "code",
     "checksum": "3b9fb13552527faa3a5547d7be9b2b98",
     "grade": false,
     "grade_id": "cell-17eacd3597c199aa",
     "locked": false,
     "schema_version": 3,
     "solution": true,
     "task": false
    },
    "revert": "from sklearn.preprocessing import LabelEncoder\n\ntarget_column = 'disruption'\n\n# YOUR CODE HERE\nraise NotImplementedError()"
   },
   "outputs": [],
   "source": [
    "#\n",
    "# <<< INSERT CODE HERE >>>\n",
    "#\n",
    "\n",
    "from sklearn.preprocessing import LabelEncoder\n",
    "\n",
    "target_column = \"disruption\"\n",
    "data_processed[\"class\"] = data_processed[target_column]"
   ]
  },
  {
   "cell_type": "code",
   "execution_count": 6,
   "metadata": {
    "deletable": false,
    "editable": false,
    "nbgrader": {
     "cell_type": "code",
     "checksum": "61d0ec5d1c090cdc7d12c0bd0f724a3c",
     "grade": false,
     "grade_id": "cell-0e8084b259f228f2",
     "locked": true,
     "schema_version": 3,
     "solution": false,
     "task": false
    }
   },
   "outputs": [],
   "source": [
    "assert data_processed['class'].nunique() == 15, \"There should be 15 classes\""
   ]
  },
  {
   "cell_type": "code",
   "execution_count": 7,
   "metadata": {
    "colab": {
     "base_uri": "https://localhost:8080/"
    },
    "deletable": false,
    "editable": false,
    "id": "9GOFgi0yMisd",
    "nbgrader": {
     "cell_type": "code",
     "checksum": "b978a8a4cd09b66760cc32a14759cb32",
     "grade": false,
     "grade_id": "cell-68c96757a89a6ab6",
     "locked": true,
     "schema_version": 3,
     "solution": false,
     "task": false
    },
    "outputId": "394d0fed-438f-4c66-a2cf-dbabca86e2b9"
   },
   "outputs": [],
   "source": [
    "assert data_processed.shape[0] > 66000, \"there should be more than 66000 rows in the merged dataset\"\n",
    "assert data_processed.shape[1] >= 17, \"5 columns for disruptions, 11 feature columns, 1 class column\"\n",
    "\n",
    "assert not data_processed.isna().any().any(), \"All missing values should be eliminated!\"\n",
    "assert not data_processed['disruption'].isna().any(), \"The dataframe must have a disruption column!\"\n",
    "assert not data_processed['bus'].isna().any(), \"The dataframe must have a bus column!\"\n",
    "assert not data_processed['subway'].isna().any(), \"The dataframe must have a subway column!\"\n",
    "assert not data_processed['tram'].isna().any(), \"The dataframe must have a tram column!\"\n",
    "assert not data_processed['duration'].isna().any(), \"The dataframe must have a duration column!\""
   ]
  },
  {
   "cell_type": "code",
   "execution_count": 8,
   "metadata": {
    "deletable": false,
    "editable": false,
    "nbgrader": {
     "cell_type": "code",
     "checksum": "caa0ec9df2159ff5180b5df9c02279c0",
     "grade": true,
     "grade_id": "cell-1f737d3bd9a8a1eb",
     "locked": true,
     "points": 0,
     "schema_version": 3,
     "solution": false,
     "task": false
    }
   },
   "outputs": [],
   "source": [
    "# hidden tests, DO NOT MODIFY OR COPY THIS CELL!!\n"
   ]
  },
  {
   "cell_type": "markdown",
   "metadata": {
    "deletable": false,
    "editable": false,
    "hidden": false,
    "id": "W6ow4ynwuJgm",
    "nbgrader": {
     "cell_type": "markdown",
     "checksum": "f692d3c7b5c1c18f1fe3b1eff0ff16b9",
     "grade": false,
     "grade_id": "cell-81213eee34f51f1e",
     "locked": true,
     "schema_version": 3,
     "solution": false,
     "task": false
    }
   },
   "source": [
    "## Task 6: Visualization (15 Poins)\n",
    "\n",
    "To better understand the dataset, create visualizations of the merged data using `pandas`, `matplotlib` or `seaborn` that help explore potential relationships between the variables before developing a model.\n",
    "We are particularly interested in the relationships of the variable to be modeled (`disruptions`) with the other columns (later features).\n",
    "\n",
    "- Make at least **3 different plots**: use **2 different plot types** and **2 different libraries**\n",
    "- Use proper labeling: include title, axis labels, legends, ... . Your plots should present information clearly! -> http://imgs.xkcd.com/comics/convincing.png. \n",
    "\n",
    "**Note:** Choice of a proper chart type is essential. Points might be subtracted when using inappropriate plots and descriptions, so please *do not* just use all possible plotting functions without understanding and justification.\n"
   ]
  },
  {
   "cell_type": "markdown",
   "metadata": {
    "deletable": false,
    "editable": false,
    "nbgrader": {
     "cell_type": "markdown",
     "checksum": "55196fd48d93e330ef047dadfcca2451",
     "grade": false,
     "grade_id": "cell-011855045d29721f",
     "locked": true,
     "schema_version": 3,
     "solution": false,
     "task": false
    }
   },
   "source": [
    "To gain valuable insights on the data, you might wanna look at the overall development over time, have a closer look at one specific year (e.g. 2021) or compare different years. For a better overview, you could also plot the top n most frequently occurring disruptions in more detail or their occurencies over the year. \n",
    "We want you to get good insights into the dataset, therefore please explore the dataset in depth, try different visualization libraries and do not only use the visualizations described by us."
   ]
  },
  {
   "cell_type": "code",
   "execution_count": 9,
   "metadata": {
    "deletable": false,
    "editable": true,
    "nbgrader": {
     "cell_type": "code",
     "checksum": "2e2fd070ed3c2f25bb8d8110d0923dbd",
     "grade": false,
     "grade_id": "cell-c3f1442e40d724cb",
     "locked": false,
     "schema_version": 3,
     "solution": true,
     "task": false
    },
    "revert": "# YOUR CODE HERE\nraise NotImplementedError()",
    "slideshow": {
     "slide_type": ""
    },
    "tags": []
   },
   "outputs": [
    {
     "data": {
      "image/png": "[encoded data removed]",
      "text/plain": [
       "<Figure size 1500x400 with 1 Axes>"
      ]
     },
     "metadata": {},
     "output_type": "display_data"
    },
    {
     "data": {
      "text/plain": [
       "<Figure size 1500x400 with 0 Axes>"
      ]
     },
     "metadata": {},
     "output_type": "display_data"
    },
    {
     "data": {
      "image/png": "[encoded data removed]",
      "text/plain": [
       "<Figure size 2000x400 with 1 Axes>"
      ]
     },
     "metadata": {},
     "output_type": "display_data"
    },
    {
     "data": {
      "image/png": "[encoded data removed]",
      "text/plain": [
       "<Figure size 1500x400 with 1 Axes>"
      ]
     },
     "metadata": {},
     "output_type": "display_data"
    }
   ],
   "source": [
    "#\n",
    "# <<< INSERT CODE HERE >>>\n",
    "#\n",
    "\n",
    "df = data_processed.copy()\n",
    "\n",
    "# freq bar plot\n",
    "plt.figure(figsize=(15, 4))\n",
    "disruption_counts = df[\"disruption\"].value_counts().head(10)\n",
    "sns.barplot(x=disruption_counts.values, y=disruption_counts.index, palette=\"viridis\", hue=disruption_counts.index)\n",
    "plt.title(\"Top 10 Most Frequent Disruptions\")\n",
    "plt.xlabel(\"Number of Occurrences\")\n",
    "plt.ylabel(\"Type of Disruption\")\n",
    "plt.tight_layout()\n",
    "plt.show()\n",
    "\n",
    "# disruptions@4 time series\n",
    "plt.figure(figsize=(15, 4))\n",
    "df.index = pd.to_datetime(df.index.map(lambda x: f\"{x[0]}-{x[1]}-{x[2]}\"))  # datetime instead of multiindex for time series\n",
    "df_monthly = df.groupby([pd.Grouper(freq=\"ME\"), \"disruption\"]).size().unstack(fill_value=0)\n",
    "df_monthly[[\"Operation\", \"Delay\", \"Traffic accident\", \"Maliciousness\"]].plot(marker=\"o\")\n",
    "plt.title(\"Monthly Frequency of Top 4 Disruption Types\")\n",
    "plt.xlabel(\"Date\")\n",
    "plt.ylabel(\"Number of Disruptions\")\n",
    "plt.legend(title=\"Disruption Type\", bbox_to_anchor=(1, 1))\n",
    "plt.grid(True)\n",
    "plt.tight_layout()\n",
    "plt.gcf().set_size_inches(20, 4)\n",
    "plt.show()\n",
    "\n",
    "# duration by transport type vs. disruption boxplot\n",
    "plt.figure(figsize=(15, 4))\n",
    "df[\"duration_minutes\"] = df[\"duration\"].dt.total_seconds() / 60\n",
    "transport_types = [\"bus\", \"subway\", \"tram\"]\n",
    "data = []\n",
    "labels = []\n",
    "for transport in transport_types:\n",
    "    mask = df[transport]\n",
    "    data.append(df[mask][\"duration_minutes\"])\n",
    "    labels.append(f\"{transport.capitalize()}\")\n",
    "plt.boxplot(data, tick_labels=labels, showfliers=False, patch_artist=False, medianprops={\"color\": \"red\"})\n",
    "for i in range(len(data)):\n",
    "    plt.text(i + 1, np.percentile(data[i], 50), f\"{np.percentile(data[i], 50):.2f}\", ha=\"left\", va=\"bottom\", color=\"black\")\n",
    "    plt.text(i + 1, np.percentile(data[i], 75), f\"{np.percentile(data[i], 75):.2f}\", ha=\"left\", va=\"bottom\", color=\"black\")\n",
    "    plt.text(i + 1, np.percentile(data[i], 25), f\"{np.percentile(data[i], 25):.2f}\", ha=\"left\", va=\"bottom\", color=\"black\")\n",
    "plt.title(\"Distribution of Disruption Duration by Transport Type\")\n",
    "plt.ylabel(\"Duration (minutes)\")\n",
    "plt.grid(True, axis=\"y\")\n",
    "plt.tight_layout()\n",
    "plt.show()"
   ]
  },
  {
   "cell_type": "code",
   "execution_count": 10,
   "metadata": {
    "deletable": false,
    "editable": false,
    "nbgrader": {
     "cell_type": "code",
     "checksum": "499189aae1f433105d48c29dbc86fa95",
     "grade": true,
     "grade_id": "cell-1596cb0031e1749f",
     "locked": true,
     "points": 15,
     "schema_version": 3,
     "solution": false,
     "task": false
    },
    "slideshow": {
     "slide_type": ""
    },
    "tags": []
   },
   "outputs": [],
   "source": [
    "# hidden tests, DO NOT MODIFY OR COPY THIS CELL!!"
   ]
  },
  {
   "cell_type": "markdown",
   "metadata": {
    "deletable": false,
    "editable": false,
    "nbgrader": {
     "cell_type": "markdown",
     "checksum": "a0313713e960cb07632eaf3d920214ac",
     "grade": false,
     "grade_id": "cell-bcca035513e11f38",
     "locked": true,
     "schema_version": 3,
     "solution": false,
     "task": false
    }
   },
   "source": [
    "# Classification models"
   ]
  },
  {
   "cell_type": "markdown",
   "metadata": {
    "deletable": false,
    "editable": false,
    "hidden": false,
    "id": "KSXez-nguJgo",
    "nbgrader": {
     "cell_type": "markdown",
     "checksum": "da8af9cec3a42c5245126b597e827be3",
     "grade": false,
     "grade_id": "cell-c1cc534f001d58c8",
     "locked": true,
     "schema_version": 3,
     "solution": false,
     "task": false
    }
   },
   "source": [
    "## Task 7: Model for disruption class prediction (25 Points)\n",
    "\n",
    "Build and train a model using weather and traffic data from 2013 until 2023 (incl.) using `scikit-learn`.\n",
    "\n",
    "You have to do the following steps:\n",
    "\n",
    "1. Create train, validation, and test splits - **2**\n",
    "1. First ML experiments - **2**\n",
    "1. Explore the different metrics - **3**\n",
    "1. Explore different scaling approaches - **3**\n",
    "1. Experiment with different train/valid splits - **3**\n",
    "1. Experiment with different feature selection methods - **3**\n",
    "1. Try out different ML algorithms - **3**\n",
    "1. Explore the effect of parameters with 10-fold cross-validation - **3**\n",
    "1. Present your best performing results - **3**\n",
    "\n",
    "General advices: Make sure your results are reproducible. You can use your student ID as seed."
   ]
  },
  {
   "cell_type": "markdown",
   "metadata": {
    "deletable": false,
    "editable": false,
    "id": "-fwIMj2lrVui",
    "nbgrader": {
     "cell_type": "markdown",
     "checksum": "debc50fcac4d7a59ffa6878a6d7307da",
     "grade": false,
     "grade_id": "cell-233e2b421fd35f7d",
     "locked": true,
     "schema_version": 3,
     "solution": false,
     "task": false
    }
   },
   "source": [
    "### 7.1 Create train, validation, and test splits"
   ]
  },
  {
   "cell_type": "markdown",
   "metadata": {
    "deletable": false,
    "editable": false,
    "nbgrader": {
     "cell_type": "markdown",
     "checksum": "3839771b7da4e46e78d1e1ea4c8851c1",
     "grade": false,
     "grade_id": "cell-b7ec63c39943909e",
     "locked": true,
     "schema_version": 3,
     "solution": false,
     "task": false
    }
   },
   "source": [
    "First, we need to create a dataset that will be used to train a model. \n",
    "\n",
    "Due to performance reasons we only use a fraction of the overall data set for our computations."
   ]
  },
  {
   "cell_type": "code",
   "execution_count": 11,
   "metadata": {
    "deletable": false,
    "nbgrader": {
     "cell_type": "code",
     "checksum": "0faa2a19e4c4bd37a9e2592d9125f4fa",
     "grade": false,
     "grade_id": "cell-f9541ad531c68f15",
     "locked": false,
     "schema_version": 3,
     "solution": true,
     "task": false
    },
    "revert": "def sample_data(df: pd.DataFrame, fraction: float = 0.7) -> pd.DataFrame:\n    \"\"\"\n    Sample a fraction of the data.\n    \"\"\"\n    data_shortened = df.copy()\n    # YOUR CODE HERE\n    raise NotImplementedError()\n    \n    # we drop disruption since it is mapped to our new target variable 'class'\n    data_shortened = data_shortened.drop(columns=['disruption']) \n    # Convert entries in the `duration` column from `Timedelta` to floating-point number `numpy.float64`, so that this column can be also used as a feature to train a classifier:\n    data_shortened['duration'] = (data_shortened['duration'] - data_shortened['duration'].min())  / np.timedelta64(1,'D')\n    return data_shortened\n\ndata_shortened = sample_data(data_processed)\ndata_shortened.head()"
   },
   "outputs": [],
   "source": [
    "#\n",
    "# <<< INSERT CODE HERE >>>\n",
    "#\n",
    "\n",
    "import random\n",
    "\n",
    "seed = student_id\n",
    "random.seed(seed)\n",
    "np.random.seed(seed)\n",
    "\n",
    "\n",
    "def sample_data(df: pd.DataFrame, fraction: float = 0.7) -> pd.DataFrame:\n",
    "    \"\"\"\n",
    "    Sample a fraction of the data.\n",
    "    \"\"\"\n",
    "    data_shortened = df.copy()\n",
    "    data_shortened = data_shortened.sample(frac=fraction, random_state=seed)\n",
    "\n",
    "    # we drop disruption since it is mapped to our new target variable 'class'\n",
    "    data_shortened = data_shortened.drop(columns=[\"disruption\"])\n",
    "    # Convert entries in the `duration` column from `Timedelta` to floating-point number `numpy.float64`, so that this column can be also used as a feature to train a classifier:\n",
    "    data_shortened[\"duration\"] = (data_shortened[\"duration\"] - data_shortened[\"duration\"].min()) / np.timedelta64(1, \"D\")\n",
    "    return data_shortened\n",
    "\n",
    "\n",
    "len_before = len(data_processed)\n",
    "data_shortened = sample_data(data_processed)\n",
    "data_shortened.head()\n",
    "\n",
    "assert (len(data_shortened) < len_before) and (len_before * 0.7 < len(data_shortened))"
   ]
  },
  {
   "cell_type": "code",
   "execution_count": 12,
   "metadata": {
    "deletable": false,
    "editable": false,
    "nbgrader": {
     "cell_type": "code",
     "checksum": "3ba3d72c9a7816a412b5a67f5602b537",
     "grade": true,
     "grade_id": "cell-c9a80a2147f6fc68",
     "locked": true,
     "points": 0,
     "schema_version": 3,
     "solution": false,
     "task": false
    },
    "slideshow": {
     "slide_type": ""
    },
    "tags": []
   },
   "outputs": [],
   "source": [
    "# hidden tests, DO NOT MODIFY OR COPY THIS CELL!!\n"
   ]
  },
  {
   "cell_type": "markdown",
   "metadata": {
    "deletable": false,
    "editable": false,
    "nbgrader": {
     "cell_type": "markdown",
     "checksum": "a5b3db1018b28d5c09b7ab3092cf6a70",
     "grade": false,
     "grade_id": "cell-2f4016a599b81bc1",
     "locked": true,
     "schema_version": 3,
     "solution": false,
     "task": false
    },
    "slideshow": {
     "slide_type": ""
    },
    "tags": []
   },
   "source": [
    "Split the `data_shortened` DataFrame into train (this will be further split to train and validation) and test sets.\n",
    "- Train & validation set: 80% of the overall data set\n",
    "- Test set: remaining 20% of the data"
   ]
  },
  {
   "cell_type": "code",
   "execution_count": 13,
   "metadata": {
    "deletable": false,
    "nbgrader": {
     "cell_type": "code",
     "checksum": "fd7ce55a2549e60bebccc516beb47c73",
     "grade": false,
     "grade_id": "cell-c8c4577b77b7a054",
     "locked": false,
     "schema_version": 3,
     "solution": true,
     "task": false
    },
    "revert": "from sklearn.model_selection import train_test_split\n\ndef split_data(df: pd.DataFrame, test_size: float=0.2,target_column: str = 'class') -> typing.Tuple[pd.DataFrame, pd.DataFrame]:\n\n    # YOUR CODE HERE\n    raise NotImplementedError()\n    \n    return df_train, df_test"
   },
   "outputs": [],
   "source": [
    "#\n",
    "# <<< INSERT CODE HERE >>>\n",
    "#\n",
    "\n",
    "from sklearn.model_selection import train_test_split\n",
    "\n",
    "\n",
    "def split_data(df: pd.DataFrame, test_size: float = 0.2, target_column: str = \"class\") -> typing.Tuple[pd.DataFrame, pd.DataFrame]:\n",
    "    df_train, df_test = train_test_split(df, test_size=test_size, random_state=seed)\n",
    "    return df_train, df_test"
   ]
  },
  {
   "cell_type": "code",
   "execution_count": 14,
   "metadata": {
    "deletable": false,
    "editable": false,
    "nbgrader": {
     "cell_type": "code",
     "checksum": "d114311c3c018a99f10382dede6c4b35",
     "grade": false,
     "grade_id": "cell-b0649a4ded87c1a9",
     "locked": true,
     "schema_version": 3,
     "solution": false,
     "task": false
    }
   },
   "outputs": [],
   "source": [
    "data_train, data_test = split_data(data_shortened)"
   ]
  },
  {
   "cell_type": "code",
   "execution_count": 15,
   "metadata": {
    "deletable": false,
    "editable": false,
    "nbgrader": {
     "cell_type": "code",
     "checksum": "425e69b6de85a3e5aaafb368b8d07c2d",
     "grade": false,
     "grade_id": "cell-94bea599698df26e",
     "locked": true,
     "schema_version": 3,
     "solution": false,
     "task": false
    }
   },
   "outputs": [],
   "source": [
    "assert data_train.shape[1] == data_test.shape[1], \"Both dataframes should have the same number of columns!!\"\n",
    "assert data_train.shape[1] == data_shortened.shape[1], \"All columns should be retained!!\"\n",
    "assert data_train.shape[0] < data_shortened.shape[0], \"data_train should be a subset of data_shortened, so it should have less rows!\"\n",
    "assert data_test.shape[0] < data_shortened.shape[0], \"data_test should be a subset of data_shortened, so it should have less rows!\""
   ]
  },
  {
   "cell_type": "code",
   "execution_count": 16,
   "metadata": {
    "deletable": false,
    "editable": false,
    "nbgrader": {
     "cell_type": "code",
     "checksum": "2a9c7a8acc00d30a2a025977f1437a53",
     "grade": true,
     "grade_id": "cell-a380f40499eb6ce0",
     "locked": true,
     "points": 1,
     "schema_version": 3,
     "solution": false,
     "task": false
    }
   },
   "outputs": [],
   "source": [
    "# hidden tests, DO NOT MODIFY OR COPY THIS CELL!!\n"
   ]
  },
  {
   "cell_type": "markdown",
   "metadata": {
    "deletable": false,
    "editable": false,
    "id": "TsaGVZE3wC0n",
    "nbgrader": {
     "cell_type": "markdown",
     "checksum": "9ab9b3e515e528fb365e8962f88665f8",
     "grade": false,
     "grade_id": "cell-1ca89c7563b97a6a",
     "locked": true,
     "schema_version": 3,
     "solution": false,
     "task": false
    }
   },
   "source": [
    "In order to train and validate a machine learning model, we need a set of training samples, and some validation data.\n",
    "We want to treat our test dataset as \"hidden test data\", so we do not want to touch it in the experiments to choose and optimize our ML model. Instead we split off another small validation set from our training data.\n",
    "* Split the `data_train` into train and validation sets. \n",
    "* Separate the features from the target attribute to predict (type of disruption: `class`). `X_` valiables should contain features whily `y_` variables contain the target values.\n",
    "\n",
    "Reminder: Do not use imports other than those from Python's standard library, pandas, numpy, scipy, matplotlib, seaborn and scikit-learn.\n"
   ]
  },
  {
   "cell_type": "code",
   "execution_count": 17,
   "metadata": {
    "deletable": false,
    "nbgrader": {
     "cell_type": "code",
     "checksum": "21362a6de0532c5b9e6a30356bd3d435",
     "grade": false,
     "grade_id": "cell-e9f05aefb5b73d95",
     "locked": false,
     "schema_version": 3,
     "solution": true,
     "task": false
    },
    "revert": "def create_dataset(df:pd.DataFrame, valid_size:float, random_state) -> typing.Tuple[pd.DataFrame, pd.Series, pd.DataFrame, pd.Series]:\n    X_train = None\n    X_valid = None\n    y_train = None\n    y_valid = None\n    \n    # YOUR CODE HERE\n    raise NotImplementedError()\n    return X_train, y_train, X_valid, y_valid"
   },
   "outputs": [],
   "source": [
    "#\n",
    "# <<< INSERT CODE HERE >>>\n",
    "#\n",
    "\n",
    "\n",
    "def create_dataset(df: pd.DataFrame, valid_size: float, random_state) -> typing.Tuple[pd.DataFrame, pd.Series, pd.DataFrame, pd.Series]:\n",
    "    X = df.drop(columns=[\"class\"])\n",
    "    y = df[\"class\"]\n",
    "    X_train, X_valid, y_train, y_valid = train_test_split(X, y, test_size=valid_size, random_state=random_state)\n",
    "    return X_train, y_train, X_valid, y_valid"
   ]
  },
  {
   "cell_type": "code",
   "execution_count": 18,
   "metadata": {
    "deletable": false,
    "editable": false,
    "nbgrader": {
     "cell_type": "code",
     "checksum": "4e73fd8f2b23f4dfcad2548c71864021",
     "grade": false,
     "grade_id": "cell-95cc4bcda7ba9c6a",
     "locked": true,
     "schema_version": 3,
     "solution": false,
     "task": false
    }
   },
   "outputs": [],
   "source": [
    "valid_split = 0.2\n",
    "X_train, y_train, X_valid, y_valid = create_dataset(data_train, valid_size=valid_split, random_state=student_id)"
   ]
  },
  {
   "cell_type": "code",
   "execution_count": 19,
   "metadata": {
    "deletable": false,
    "editable": false,
    "nbgrader": {
     "cell_type": "code",
     "checksum": "1cba3527b651621ba18e919f43bd3778",
     "grade": false,
     "grade_id": "cell-3588dbaddcc0f6f6",
     "locked": true,
     "schema_version": 3,
     "solution": false,
     "task": false
    }
   },
   "outputs": [
    {
     "data": {
      "text/html": [
       "<div>\n",
       "<style scoped>\n",
       "    .dataframe tbody tr th:only-of-type {\n",
       "        vertical-align: middle;\n",
       "    }\n",
       "\n",
       "    .dataframe tbody tr th {\n",
       "        vertical-align: top;\n",
       "    }\n",
       "\n",
       "    .dataframe thead th {\n",
       "        text-align: right;\n",
       "    }\n",
       "</style>\n",
       "<table border=\"1\" class=\"dataframe\">\n",
       "  <thead>\n",
       "    <tr style=\"text-align: right;\">\n",
       "      <th></th>\n",
       "      <th></th>\n",
       "      <th></th>\n",
       "      <th>temp_dailyMin</th>\n",
       "      <th>temp_dailyMax</th>\n",
       "      <th>temp_dailyMean</th>\n",
       "      <th>temp_dailyMedian</th>\n",
       "      <th>hum_dailyMin</th>\n",
       "      <th>hum_dailyMax</th>\n",
       "      <th>hum_dailyMean</th>\n",
       "      <th>wind_dailyMin</th>\n",
       "      <th>wind_dailyMax</th>\n",
       "      <th>wind_dailyMean</th>\n",
       "      <th>precip</th>\n",
       "      <th>bus</th>\n",
       "      <th>subway</th>\n",
       "      <th>tram</th>\n",
       "      <th>duration</th>\n",
       "    </tr>\n",
       "    <tr>\n",
       "      <th>year</th>\n",
       "      <th>month</th>\n",
       "      <th>day</th>\n",
       "      <th></th>\n",
       "      <th></th>\n",
       "      <th></th>\n",
       "      <th></th>\n",
       "      <th></th>\n",
       "      <th></th>\n",
       "      <th></th>\n",
       "      <th></th>\n",
       "      <th></th>\n",
       "      <th></th>\n",
       "      <th></th>\n",
       "      <th></th>\n",
       "      <th></th>\n",
       "      <th></th>\n",
       "      <th></th>\n",
       "    </tr>\n",
       "  </thead>\n",
       "  <tbody>\n",
       "    <tr>\n",
       "      <th>2017</th>\n",
       "      <th>9</th>\n",
       "      <th>4</th>\n",
       "      <td>13.8</td>\n",
       "      <td>20.5</td>\n",
       "      <td>16.766667</td>\n",
       "      <td>16.00</td>\n",
       "      <td>43</td>\n",
       "      <td>70</td>\n",
       "      <td>55.666667</td>\n",
       "      <td>2</td>\n",
       "      <td>4</td>\n",
       "      <td>2.666667</td>\n",
       "      <td>0.01</td>\n",
       "      <td>False</td>\n",
       "      <td>True</td>\n",
       "      <td>False</td>\n",
       "      <td>0.062500</td>\n",
       "    </tr>\n",
       "    <tr>\n",
       "      <th>2018</th>\n",
       "      <th>11</th>\n",
       "      <th>14</th>\n",
       "      <td>6.9</td>\n",
       "      <td>13.0</td>\n",
       "      <td>9.700000</td>\n",
       "      <td>9.20</td>\n",
       "      <td>55</td>\n",
       "      <td>82</td>\n",
       "      <td>69.333333</td>\n",
       "      <td>2</td>\n",
       "      <td>3</td>\n",
       "      <td>2.333333</td>\n",
       "      <td>0.00</td>\n",
       "      <td>False</td>\n",
       "      <td>False</td>\n",
       "      <td>True</td>\n",
       "      <td>0.105556</td>\n",
       "    </tr>\n",
       "    <tr>\n",
       "      <th>2017</th>\n",
       "      <th>5</th>\n",
       "      <th>6</th>\n",
       "      <td>13.1</td>\n",
       "      <td>21.6</td>\n",
       "      <td>18.000000</td>\n",
       "      <td>19.30</td>\n",
       "      <td>51</td>\n",
       "      <td>78</td>\n",
       "      <td>60.333333</td>\n",
       "      <td>2</td>\n",
       "      <td>3</td>\n",
       "      <td>2.666667</td>\n",
       "      <td>0.01</td>\n",
       "      <td>False</td>\n",
       "      <td>False</td>\n",
       "      <td>False</td>\n",
       "      <td>0.011111</td>\n",
       "    </tr>\n",
       "    <tr>\n",
       "      <th>2018</th>\n",
       "      <th>5</th>\n",
       "      <th>9</th>\n",
       "      <td>14.2</td>\n",
       "      <td>24.5</td>\n",
       "      <td>19.816667</td>\n",
       "      <td>20.75</td>\n",
       "      <td>49</td>\n",
       "      <td>89</td>\n",
       "      <td>68.333333</td>\n",
       "      <td>1</td>\n",
       "      <td>2</td>\n",
       "      <td>1.666667</td>\n",
       "      <td>0.00</td>\n",
       "      <td>True</td>\n",
       "      <td>False</td>\n",
       "      <td>False</td>\n",
       "      <td>0.085417</td>\n",
       "    </tr>\n",
       "    <tr>\n",
       "      <th rowspan=\"3\" valign=\"top\">2015</th>\n",
       "      <th>10</th>\n",
       "      <th>29</th>\n",
       "      <td>8.7</td>\n",
       "      <td>10.9</td>\n",
       "      <td>10.066667</td>\n",
       "      <td>10.60</td>\n",
       "      <td>84</td>\n",
       "      <td>93</td>\n",
       "      <td>88.000000</td>\n",
       "      <td>1</td>\n",
       "      <td>3</td>\n",
       "      <td>1.666667</td>\n",
       "      <td>0.00</td>\n",
       "      <td>False</td>\n",
       "      <td>False</td>\n",
       "      <td>True</td>\n",
       "      <td>0.064583</td>\n",
       "    </tr>\n",
       "    <tr>\n",
       "      <th>...</th>\n",
       "      <th>...</th>\n",
       "      <td>...</td>\n",
       "      <td>...</td>\n",
       "      <td>...</td>\n",
       "      <td>...</td>\n",
       "      <td>...</td>\n",
       "      <td>...</td>\n",
       "      <td>...</td>\n",
       "      <td>...</td>\n",
       "      <td>...</td>\n",
       "      <td>...</td>\n",
       "      <td>...</td>\n",
       "      <td>...</td>\n",
       "      <td>...</td>\n",
       "      <td>...</td>\n",
       "      <td>...</td>\n",
       "    </tr>\n",
       "    <tr>\n",
       "      <th>4</th>\n",
       "      <th>27</th>\n",
       "      <td>13.0</td>\n",
       "      <td>25.0</td>\n",
       "      <td>19.700000</td>\n",
       "      <td>21.10</td>\n",
       "      <td>39</td>\n",
       "      <td>80</td>\n",
       "      <td>53.000000</td>\n",
       "      <td>2</td>\n",
       "      <td>4</td>\n",
       "      <td>3.000000</td>\n",
       "      <td>0.00</td>\n",
       "      <td>True</td>\n",
       "      <td>False</td>\n",
       "      <td>False</td>\n",
       "      <td>0.094444</td>\n",
       "    </tr>\n",
       "    <tr>\n",
       "      <th>2017</th>\n",
       "      <th>9</th>\n",
       "      <th>23</th>\n",
       "      <td>12.3</td>\n",
       "      <td>17.3</td>\n",
       "      <td>14.133333</td>\n",
       "      <td>12.80</td>\n",
       "      <td>59</td>\n",
       "      <td>84</td>\n",
       "      <td>73.333333</td>\n",
       "      <td>2</td>\n",
       "      <td>2</td>\n",
       "      <td>2.000000</td>\n",
       "      <td>0.60</td>\n",
       "      <td>True</td>\n",
       "      <td>False</td>\n",
       "      <td>False</td>\n",
       "      <td>0.037500</td>\n",
       "    </tr>\n",
       "    <tr>\n",
       "      <th>2022</th>\n",
       "      <th>3</th>\n",
       "      <th>18</th>\n",
       "      <td>2.6</td>\n",
       "      <td>11.4</td>\n",
       "      <td>6.766667</td>\n",
       "      <td>6.30</td>\n",
       "      <td>50</td>\n",
       "      <td>86</td>\n",
       "      <td>67.000000</td>\n",
       "      <td>1</td>\n",
       "      <td>2</td>\n",
       "      <td>1.333333</td>\n",
       "      <td>0.00</td>\n",
       "      <td>True</td>\n",
       "      <td>False</td>\n",
       "      <td>False</td>\n",
       "      <td>0.162500</td>\n",
       "    </tr>\n",
       "    <tr>\n",
       "      <th>2016</th>\n",
       "      <th>1</th>\n",
       "      <th>8</th>\n",
       "      <td>-2.6</td>\n",
       "      <td>8.9</td>\n",
       "      <td>3.333333</td>\n",
       "      <td>3.70</td>\n",
       "      <td>56</td>\n",
       "      <td>98</td>\n",
       "      <td>76.000000</td>\n",
       "      <td>2</td>\n",
       "      <td>4</td>\n",
       "      <td>2.666667</td>\n",
       "      <td>0.00</td>\n",
       "      <td>False</td>\n",
       "      <td>True</td>\n",
       "      <td>False</td>\n",
       "      <td>0.075694</td>\n",
       "    </tr>\n",
       "    <tr>\n",
       "      <th>2022</th>\n",
       "      <th>3</th>\n",
       "      <th>28</th>\n",
       "      <td>5.9</td>\n",
       "      <td>19.3</td>\n",
       "      <td>13.533333</td>\n",
       "      <td>15.40</td>\n",
       "      <td>36</td>\n",
       "      <td>65</td>\n",
       "      <td>46.000000</td>\n",
       "      <td>1</td>\n",
       "      <td>2</td>\n",
       "      <td>1.666667</td>\n",
       "      <td>0.00</td>\n",
       "      <td>False</td>\n",
       "      <td>False</td>\n",
       "      <td>True</td>\n",
       "      <td>0.167361</td>\n",
       "    </tr>\n",
       "  </tbody>\n",
       "</table>\n",
       "<p>42406 rows × 15 columns</p>\n",
       "</div>"
      ],
      "text/plain": [
       "                temp_dailyMin  temp_dailyMax  temp_dailyMean  \\\n",
       "year month day                                                 \n",
       "2017 9     4             13.8           20.5       16.766667   \n",
       "2018 11    14             6.9           13.0        9.700000   \n",
       "2017 5     6             13.1           21.6       18.000000   \n",
       "2018 5     9             14.2           24.5       19.816667   \n",
       "2015 10    29             8.7           10.9       10.066667   \n",
       "...                       ...            ...             ...   \n",
       "     4     27            13.0           25.0       19.700000   \n",
       "2017 9     23            12.3           17.3       14.133333   \n",
       "2022 3     18             2.6           11.4        6.766667   \n",
       "2016 1     8             -2.6            8.9        3.333333   \n",
       "2022 3     28             5.9           19.3       13.533333   \n",
       "\n",
       "                temp_dailyMedian  hum_dailyMin  hum_dailyMax  hum_dailyMean  \\\n",
       "year month day                                                                \n",
       "2017 9     4               16.00            43            70      55.666667   \n",
       "2018 11    14               9.20            55            82      69.333333   \n",
       "2017 5     6               19.30            51            78      60.333333   \n",
       "2018 5     9               20.75            49            89      68.333333   \n",
       "2015 10    29              10.60            84            93      88.000000   \n",
       "...                          ...           ...           ...            ...   \n",
       "     4     27              21.10            39            80      53.000000   \n",
       "2017 9     23              12.80            59            84      73.333333   \n",
       "2022 3     18               6.30            50            86      67.000000   \n",
       "2016 1     8                3.70            56            98      76.000000   \n",
       "2022 3     28              15.40            36            65      46.000000   \n",
       "\n",
       "                wind_dailyMin  wind_dailyMax  wind_dailyMean  precip    bus  \\\n",
       "year month day                                                                \n",
       "2017 9     4                2              4        2.666667    0.01  False   \n",
       "2018 11    14               2              3        2.333333    0.00  False   \n",
       "2017 5     6                2              3        2.666667    0.01  False   \n",
       "2018 5     9                1              2        1.666667    0.00   True   \n",
       "2015 10    29               1              3        1.666667    0.00  False   \n",
       "...                       ...            ...             ...     ...    ...   \n",
       "     4     27               2              4        3.000000    0.00   True   \n",
       "2017 9     23               2              2        2.000000    0.60   True   \n",
       "2022 3     18               1              2        1.333333    0.00   True   \n",
       "2016 1     8                2              4        2.666667    0.00  False   \n",
       "2022 3     28               1              2        1.666667    0.00  False   \n",
       "\n",
       "                subway   tram  duration  \n",
       "year month day                           \n",
       "2017 9     4      True  False  0.062500  \n",
       "2018 11    14    False   True  0.105556  \n",
       "2017 5     6     False  False  0.011111  \n",
       "2018 5     9     False  False  0.085417  \n",
       "2015 10    29    False   True  0.064583  \n",
       "...                ...    ...       ...  \n",
       "     4     27    False  False  0.094444  \n",
       "2017 9     23    False  False  0.037500  \n",
       "2022 3     18    False  False  0.162500  \n",
       "2016 1     8      True  False  0.075694  \n",
       "2022 3     28    False   True  0.167361  \n",
       "\n",
       "[42406 rows x 15 columns]"
      ]
     },
     "execution_count": 19,
     "metadata": {},
     "output_type": "execute_result"
    }
   ],
   "source": [
    "X_train"
   ]
  },
  {
   "cell_type": "code",
   "execution_count": 20,
   "metadata": {
    "deletable": false,
    "editable": false,
    "nbgrader": {
     "cell_type": "code",
     "checksum": "6ece43990de5ff60bb0d55610f7965c4",
     "grade": false,
     "grade_id": "cell-dfe47fe88c6813c2",
     "locked": true,
     "schema_version": 3,
     "solution": false,
     "task": false
    }
   },
   "outputs": [],
   "source": [
    "# Tests\n",
    "assert isinstance(X_train, pd.DataFrame)\n",
    "assert isinstance(X_valid, pd.DataFrame)\n",
    "\n",
    "assert isinstance(y_train, pd.Series)\n",
    "assert isinstance(y_valid, pd.Series)\n",
    "\n",
    "assert X_train.shape[0] <= data_train.shape[0] * (1 - valid_split+0.05), \"Number of rows should match the valid_split size (plus a small tolerance)!\"\n",
    "assert X_valid.shape[0] <= data_train.shape[0] * (valid_split+0.05), \"Number of rows should match the valid_split size (plus a small tolerance)!\"\n",
    "\n",
    "assert y_train.shape[0] == X_train.shape[0], \"Number of rows should stay the same for x and y!\"\n",
    "assert y_valid.shape[0] == X_valid.shape[0], \"Number of rows should stay the same for x and y!\"\n",
    "\n",
    "assert len(y_train.shape) == 1\n",
    "assert len(y_valid.shape) == 1"
   ]
  },
  {
   "cell_type": "code",
   "execution_count": 21,
   "metadata": {
    "deletable": false,
    "editable": false,
    "nbgrader": {
     "cell_type": "code",
     "checksum": "26b271257a6ea5321c660c49c6a52b24",
     "grade": true,
     "grade_id": "cell-2b9f8d6ecd05a96f",
     "locked": true,
     "points": 1,
     "schema_version": 3,
     "solution": false,
     "task": false
    }
   },
   "outputs": [],
   "source": [
    "# hidden tests, DO NOT MODIFY OR COPY THIS CELL!!\n"
   ]
  },
  {
   "cell_type": "markdown",
   "metadata": {
    "deletable": false,
    "editable": false,
    "nbgrader": {
     "cell_type": "markdown",
     "checksum": "6ff7289ce6e2c061f5903f0ae8c79361",
     "grade": false,
     "grade_id": "cell-79059ea0f9a2929f",
     "locked": true,
     "schema_version": 3,
     "solution": false,
     "task": false
    },
    "slideshow": {
     "slide_type": ""
    },
    "tags": []
   },
   "source": [
    "### 7.2 First ML experiments"
   ]
  },
  {
   "cell_type": "markdown",
   "metadata": {
    "deletable": false,
    "editable": false,
    "id": "-IivXJnbO_BP",
    "nbgrader": {
     "cell_type": "markdown",
     "checksum": "f1c5691d62574eaf0484a435a823ca6d",
     "grade": false,
     "grade_id": "cell-ec96187781366511",
     "locked": true,
     "schema_version": 3,
     "solution": false,
     "task": false
    }
   },
   "source": [
    "#### Identify suitable ML methods\n",
    "\n",
    "Now that we have training and validation data, select an appropriate ML method and train it using the data.\n",
    "It might help to go back to the visualization task and think about what kind of data we are dealing with, and what the task of the model should be.\n",
    "\n",
    "- Identify **at least three** (see https://scikit-learn.org/stable/tutorial/machine_learning_map/index.html) suitable ML methods from sklearn and add them to the list in the code block below."
   ]
  },
  {
   "cell_type": "code",
   "execution_count": 22,
   "metadata": {
    "deletable": false,
    "id": "RP6hi69OaACE",
    "nbgrader": {
     "cell_type": "code",
     "checksum": "8641e3fd0cae065068cc265a7e75cf9c",
     "grade": false,
     "grade_id": "cell-21b3ea626b88e33d",
     "locked": false,
     "schema_version": 3,
     "solution": true,
     "task": false
    },
    "revert": "suitable_ml_methods = []\n\n# add at least three suitable methods:\n# YOUR CODE HERE\nraise NotImplementedError()"
   },
   "outputs": [
    {
     "name": "stdout",
     "output_type": "stream",
     "text": [
      "training RandomForestClassifier\n",
      "train accuracy: 0.9882\n",
      "test accuracy: 0.3447\n",
      "report:\n",
      "              precision    recall  f1-score   support\n",
      "\n",
      "           0       0.14      0.09      0.11        32\n",
      "           1       0.02      0.03      0.03        35\n",
      "           2       0.57      0.65      0.61      2894\n",
      "           3       0.21      0.16      0.19       219\n",
      "           4       0.09      0.06      0.07       160\n",
      "           5       0.13      0.07      0.09        30\n",
      "           6       0.22      0.20      0.21      1599\n",
      "           7       0.32      0.35      0.34      3051\n",
      "           8       0.12      0.11      0.12       186\n",
      "           9       0.11      0.06      0.08        95\n",
      "          10       0.25      0.23      0.24      2197\n",
      "          11       0.41      0.41      0.41      1033\n",
      "          12       0.12      0.06      0.08       177\n",
      "          13       0.18      0.17      0.18      1515\n",
      "          14       0.07      0.07      0.07        29\n",
      "\n",
      "    accuracy                           0.34     13252\n",
      "   macro avg       0.20      0.18      0.19     13252\n",
      "weighted avg       0.33      0.34      0.34     13252\n",
      "\n",
      "training DecisionTreeClassifier\n",
      "train accuracy: 0.9882\n",
      "test accuracy: 0.2914\n",
      "report:\n",
      "              precision    recall  f1-score   support\n",
      "\n",
      "           0       0.07      0.09      0.08        32\n",
      "           1       0.03      0.06      0.04        35\n",
      "           2       0.51      0.51      0.51      2894\n",
      "           3       0.11      0.12      0.12       219\n",
      "           4       0.04      0.04      0.04       160\n",
      "           5       0.04      0.03      0.04        30\n",
      "           6       0.22      0.22      0.22      1599\n",
      "           7       0.29      0.29      0.29      3051\n",
      "           8       0.07      0.08      0.07       186\n",
      "           9       0.06      0.05      0.05        95\n",
      "          10       0.24      0.22      0.23      2197\n",
      "          11       0.32      0.32      0.32      1033\n",
      "          12       0.08      0.08      0.08       177\n",
      "          13       0.17      0.17      0.17      1515\n",
      "          14       0.07      0.07      0.07        29\n",
      "\n",
      "    accuracy                           0.29     13252\n",
      "   macro avg       0.15      0.16      0.16     13252\n",
      "weighted avg       0.29      0.29      0.29     13252\n",
      "\n",
      "training LogisticRegression\n",
      "train accuracy: 0.3239\n",
      "test accuracy: 0.3226\n",
      "report:\n",
      "              precision    recall  f1-score   support\n",
      "\n",
      "           0       0.20      0.03      0.05        32\n",
      "           1       0.00      0.00      0.00        35\n",
      "           2       0.42      0.59      0.49      2894\n",
      "           3       1.00      0.01      0.03       219\n",
      "           4       0.00      0.00      0.00       160\n",
      "           5       0.00      0.00      0.00        30\n",
      "           6       0.18      0.01      0.02      1599\n",
      "           7       0.28      0.78      0.41      3051\n",
      "           8       0.00      0.00      0.00       186\n",
      "           9       0.00      0.00      0.00        95\n",
      "          10       0.22      0.03      0.05      2197\n",
      "          11       0.26      0.09      0.13      1033\n",
      "          12       1.00      0.01      0.01       177\n",
      "          13       0.00      0.00      0.00      1515\n",
      "          14       0.00      0.00      0.00        29\n",
      "\n",
      "    accuracy                           0.32     13252\n",
      "   macro avg       0.24      0.10      0.08     13252\n",
      "weighted avg       0.27      0.32      0.22     13252\n",
      "\n",
      "best performing model: RandomForestClassifier\n",
      "best test acc: 0.3447\n",
      "\n"
     ]
    },
    {
     "name": "stderr",
     "output_type": "stream",
     "text": [
      "/opt/conda/lib/python3.11/site-packages/sklearn/linear_model/_logistic.py:469: ConvergenceWarning: lbfgs failed to converge (status=1):\n",
      "STOP: TOTAL NO. of ITERATIONS REACHED LIMIT.\n",
      "\n",
      "Increase the number of iterations (max_iter) or scale the data as shown in:\n",
      "    https://scikit-learn.org/stable/modules/preprocessing.html\n",
      "Please also refer to the documentation for alternative solver options:\n",
      "    https://scikit-learn.org/stable/modules/linear_model.html#logistic-regression\n",
      "  n_iter_i = _check_optimize_result(\n"
     ]
    }
   ],
   "source": [
    "#\n",
    "# <<< INSERT CODE HERE >>>\n",
    "#\n",
    "\n",
    "# a bunch of simple, interpretable and fast classifiers\n",
    "from sklearn.tree import DecisionTreeClassifier\n",
    "from sklearn.ensemble import RandomForestClassifier\n",
    "from sklearn.linear_model import LogisticRegression\n",
    "\n",
    "suitable_ml_methods = [\n",
    "    RandomForestClassifier,\n",
    "    DecisionTreeClassifier,\n",
    "    LogisticRegression,\n",
    "]\n",
    "\n",
    "\"\"\"\n",
    "i found the workflow below confusing, so i decided to just write a\n",
    "short eval loop that trains and evaluates all models in one go\n",
    "\"\"\"\n",
    "\n",
    "from sklearn.model_selection import train_test_split\n",
    "from sklearn.preprocessing import StandardScaler, LabelEncoder\n",
    "from sklearn.ensemble import RandomForestClassifier\n",
    "from sklearn.tree import DecisionTreeClassifier\n",
    "from sklearn.linear_model import LogisticRegression\n",
    "from sklearn.metrics import classification_report\n",
    "\n",
    "\n",
    "def quick_experiment(df):\n",
    "    df = df.copy()\n",
    "\n",
    "    # bool to int\n",
    "    bool_cols = df.select_dtypes(include=[\"bool\"]).columns\n",
    "    for col in bool_cols:\n",
    "        df[col] = df[col].astype(int)\n",
    "\n",
    "    # multi-class to int\n",
    "    le = LabelEncoder()\n",
    "    df[\"class\"] = le.fit_transform(df[\"class\"])\n",
    "\n",
    "    X = df.drop(\"class\", axis=1)\n",
    "    y = df[\"class\"]\n",
    "    X_train, X_test, y_train, y_test = train_test_split(X, y, test_size=0.2, random_state=seed)\n",
    "\n",
    "    scaler = StandardScaler()\n",
    "    X_train_scaled = scaler.fit_transform(X_train)\n",
    "    X_test_scaled = scaler.transform(X_test)\n",
    "\n",
    "    results = {}\n",
    "    for model_class in suitable_ml_methods:\n",
    "        name = model_class.__name__\n",
    "        print(f\"training {name}\")\n",
    "\n",
    "        model = model_class(random_state=seed)\n",
    "        model.fit(X_train_scaled, y_train)\n",
    "        train_score = model.score(X_train_scaled, y_train)\n",
    "        test_score = model.score(X_test_scaled, y_test)\n",
    "\n",
    "        results[name] = {\"model\": model, \"train_score\": train_score, \"test_score\": test_score}\n",
    "        print(f\"train accuracy: {train_score:.4f}\")\n",
    "        print(f\"test accuracy: {test_score:.4f}\")\n",
    "        print(\"report:\")\n",
    "        print(classification_report(y_test, model.predict(X_test_scaled), zero_division=0))\n",
    "    return results, scaler, le\n",
    "\n",
    "\n",
    "df = data_shortened.copy()\n",
    "results, scaler, label_encoder = quick_experiment(df)\n",
    "best_model = max(results.items(), key=lambda x: x[1][\"test_score\"])\n",
    "print(f\"best performing model: {best_model[0]}\")\n",
    "print(f\"best test acc: {best_model[1]['test_score']:.4f}\")\n",
    "print()"
   ]
  },
  {
   "cell_type": "code",
   "execution_count": 23,
   "metadata": {
    "deletable": false,
    "editable": false,
    "id": "jBD6n_ynhrhT",
    "nbgrader": {
     "cell_type": "code",
     "checksum": "b0a2520ad09043146cde44fc3ad2e26b",
     "grade": false,
     "grade_id": "cell-e5325a099bcb3447",
     "locked": true,
     "schema_version": 3,
     "solution": false,
     "task": false
    }
   },
   "outputs": [],
   "source": [
    "def print_selection(selected: list, sel_type:str='methods'):\n",
    "  print(f\"Identified {sel_type}:\\n===================\\n\"+ \n",
    "        '\\n'.join([cur_sel.__name__ for cur_sel in selected]))"
   ]
  },
  {
   "cell_type": "code",
   "execution_count": 24,
   "metadata": {
    "colab": {
     "base_uri": "https://localhost:8080/"
    },
    "deletable": false,
    "editable": false,
    "id": "qUYYEWlnqVDE",
    "nbgrader": {
     "cell_type": "code",
     "checksum": "7b15f697b2a3af05af77caadfd455d2c",
     "grade": false,
     "grade_id": "cell-4c062a366b008838",
     "locked": true,
     "schema_version": 3,
     "solution": false,
     "task": false
    },
    "outputId": "90286d7a-49c7-4ff9-e858-9dbb0cbbe562"
   },
   "outputs": [
    {
     "name": "stdout",
     "output_type": "stream",
     "text": [
      "Identified methods:\n",
      "===================\n",
      "RandomForestClassifier\n",
      "DecisionTreeClassifier\n",
      "LogisticRegression\n"
     ]
    }
   ],
   "source": [
    "print_selection(suitable_ml_methods)"
   ]
  },
  {
   "cell_type": "code",
   "execution_count": 25,
   "metadata": {
    "colab": {
     "base_uri": "https://localhost:8080/"
    },
    "deletable": false,
    "editable": false,
    "id": "wjSD2ztqbCPe",
    "nbgrader": {
     "cell_type": "code",
     "checksum": "1f4ebcc949f14de4fe7248a9ff70b0f7",
     "grade": false,
     "grade_id": "cell-0b7550591bfa368a",
     "locked": true,
     "schema_version": 3,
     "solution": false,
     "task": false
    },
    "outputId": "85eb7050-4180-420c-f225-6e3a47551069"
   },
   "outputs": [],
   "source": [
    "# Tests\n",
    "\n",
    "assert len(suitable_ml_methods) >= 3\n",
    "\n",
    "assert np.all([cur_method.__module__.startswith('sklearn')  \\\n",
    "          for cur_method in suitable_ml_methods]), \\\n",
    "          \"Only use classes from sklearn!\""
   ]
  },
  {
   "cell_type": "code",
   "execution_count": 26,
   "metadata": {
    "deletable": false,
    "editable": false,
    "nbgrader": {
     "cell_type": "code",
     "checksum": "288f84c5f818366088da8da8e329e8d7",
     "grade": true,
     "grade_id": "cell-b3f7a0ef020f39ae",
     "locked": true,
     "points": 1,
     "schema_version": 3,
     "solution": false,
     "task": false
    },
    "slideshow": {
     "slide_type": ""
    },
    "tags": []
   },
   "outputs": [],
   "source": [
    "# hidden tests, DO NOT MODIFY OR COPY THIS CELL!!\n"
   ]
  },
  {
   "cell_type": "markdown",
   "metadata": {
    "deletable": false,
    "editable": false,
    "id": "XPbaifBBhRyD",
    "nbgrader": {
     "cell_type": "markdown",
     "checksum": "00ebe4dec660db1025ce76c79ebfb635",
     "grade": false,
     "grade_id": "cell-00cda5ed8f0cc11e",
     "locked": true,
     "schema_version": 3,
     "solution": false,
     "task": false
    }
   },
   "source": [
    "#### Train a ML model\n",
    "\n",
    "Now that we have identified suitable methods, let's train a model! Implement two functions:\n",
    "- Train a ML method on the train subset (`X_train`, `y_train`) and return the trained model.\n",
    "- Use the trained model to predict the validation subset (`X_valid`) and return the predictions.\n",
    "- Your trained model should be better than our hidden baseline model (don't worry, it's not a strong one!)"
   ]
  },
  {
   "cell_type": "code",
   "execution_count": 27,
   "metadata": {
    "colab": {
     "base_uri": "https://localhost:8080/",
     "height": 301
    },
    "deletable": false,
    "id": "Dr-0nXFcsDYC",
    "nbgrader": {
     "cell_type": "code",
     "checksum": "3fd67c4d08e80a3b7121da17da9a410e",
     "grade": false,
     "grade_id": "cell-86feddf4131aa88f",
     "locked": false,
     "schema_version": 3,
     "solution": true,
     "task": false
    },
    "outputId": "cacd2755-4e98-48b0-b63c-099ccb371587",
    "revert": "def train_model(model_type: type, X_train:pd.DataFrame, y_train:pd.DataFrame) -> sklearn.base.ClassifierMixin:\n        \n    trained_model = None  # sklearn trained model\n    # YOUR CODE HERE\n    raise NotImplementedError()\n    \n    return trained_model\n\ndef predict_disruption_type(trained_model: sklearn.base.ClassifierMixin, X_valid:pd.DataFrame) -> np.ndarray:\n        \n    y_pred = None  # numpy.ndarray\n    # YOUR CODE HERE\n    raise NotImplementedError()\n    \n    return y_pred"
   },
   "outputs": [],
   "source": [
    "#\n",
    "# <<< INSERT CODE HERE >>>\n",
    "#\n",
    "\n",
    "\n",
    "def preprocess_data(df: pd.DataFrame) -> tuple:\n",
    "    df = df.copy()\n",
    "\n",
    "    bool_cols = df.select_dtypes(include=[\"bool\"]).columns\n",
    "    for col in bool_cols:\n",
    "        df[col] = df[col].astype(int)\n",
    "\n",
    "    le = LabelEncoder()\n",
    "    if \"class\" in df.columns:\n",
    "        df[\"class\"] = le.fit_transform(df[\"class\"])\n",
    "        X = df.drop(\"class\", axis=1)\n",
    "        y = df[\"class\"]\n",
    "    else:\n",
    "        X = df\n",
    "        y = None\n",
    "\n",
    "    scaler = StandardScaler()\n",
    "    X_scaled = scaler.fit_transform(X)\n",
    "    X_scaled = pd.DataFrame(X_scaled, columns=X.columns, index=X.index)\n",
    "    return X_scaled, y, scaler, le\n",
    "\n",
    "\n",
    "def train_model(model_type: type, X_train: pd.DataFrame, y_train: pd.DataFrame) -> sklearn.base.ClassifierMixin:\n",
    "    trained_model = model_type(random_state=seed)\n",
    "    X_train_processed, y_train_processed, scaler, le = preprocess_data(pd.concat([X_train, y_train.to_frame(name=\"class\")], axis=1))\n",
    "    trained_model.fit(X_train_processed, y_train_processed)\n",
    "    return trained_model\n",
    "\n",
    "\n",
    "def predict_disruption_type(trained_model: sklearn.base.ClassifierMixin, X_valid: pd.DataFrame) -> np.ndarray:\n",
    "    X_valid_processed, _, _, _ = preprocess_data(X_valid)\n",
    "    y_pred = trained_model.predict(X_valid_processed)\n",
    "    return y_pred"
   ]
  },
  {
   "cell_type": "code",
   "execution_count": 28,
   "metadata": {
    "deletable": false,
    "editable": false,
    "nbgrader": {
     "cell_type": "code",
     "checksum": "fde8f1e604c142e7e349aaa89761ffba",
     "grade": false,
     "grade_id": "cell-f4bf45a86637939b",
     "locked": true,
     "schema_version": 3,
     "solution": false,
     "task": false
    }
   },
   "outputs": [
    {
     "name": "stdout",
     "output_type": "stream",
     "text": [
      "Choosen model: RandomForestClassifier\n"
     ]
    }
   ],
   "source": [
    "model_idx = 0  # you can choose different models from the list of suitable models here\n",
    "choosen_model_class = suitable_ml_methods[model_idx]\n",
    "print(f\"Choosen model: {choosen_model_class.__name__}\")"
   ]
  },
  {
   "cell_type": "code",
   "execution_count": 29,
   "metadata": {
    "deletable": false,
    "editable": false,
    "nbgrader": {
     "cell_type": "code",
     "checksum": "3fa159c89650798e186e0470a57c5a66",
     "grade": false,
     "grade_id": "cell-aea8f76377c2f888",
     "locked": true,
     "schema_version": 3,
     "solution": false,
     "task": false
    }
   },
   "outputs": [],
   "source": [
    "trained_model = train_model(choosen_model_class, X_train, y_train)\n",
    "y_pred = predict_disruption_type(trained_model, X_valid)"
   ]
  },
  {
   "cell_type": "code",
   "execution_count": 30,
   "metadata": {
    "deletable": false,
    "editable": false,
    "id": "4XTAppWwn-3K",
    "nbgrader": {
     "cell_type": "code",
     "checksum": "4449a826a7c3dc49269361f18db51339",
     "grade": false,
     "grade_id": "cell-b5f9bc56a3be11bf",
     "locked": true,
     "schema_version": 3,
     "solution": false,
     "task": false
    }
   },
   "outputs": [],
   "source": [
    "assert y_pred.shape[0] == y_valid.shape[0], \"Predictions for each row!\"\n",
    "assert len(y_pred.shape) == 1, 'only one value per row!'"
   ]
  },
  {
   "cell_type": "code",
   "execution_count": 31,
   "metadata": {
    "deletable": false,
    "editable": false,
    "nbgrader": {
     "cell_type": "code",
     "checksum": "378adcf339695074722d7291f28a1481",
     "grade": true,
     "grade_id": "cell-b71b76cb5c7cfc3a",
     "locked": true,
     "points": 1,
     "schema_version": 3,
     "solution": false,
     "task": false
    },
    "slideshow": {
     "slide_type": ""
    },
    "tags": []
   },
   "outputs": [],
   "source": [
    "# hidden tests, DO NOT MODIFY OR COPY THIS CELL!!\n"
   ]
  },
  {
   "cell_type": "markdown",
   "metadata": {
    "deletable": false,
    "editable": false,
    "id": "31U3ziCKoEwP",
    "nbgrader": {
     "cell_type": "markdown",
     "checksum": "91b7d297d7a3982c379251fb9d992960",
     "grade": false,
     "grade_id": "cell-2950067c74f4a0e4",
     "locked": true,
     "schema_version": 3,
     "solution": false,
     "task": false
    }
   },
   "source": [
    "### 7.3 Explore different metrics\n",
    "\n",
    "In order to quantify the quality of the trained model we need a metric to  calculate performance.\n",
    "Similarly as above with the ML methods, please identify at least three metrics from `sklearn.metrics` that are suitable for the task at hand.\n",
    "Add them to the list below:"
   ]
  },
  {
   "cell_type": "code",
   "execution_count": 32,
   "metadata": {
    "deletable": false,
    "editable": true,
    "id": "kMksBbNeqBCq",
    "nbgrader": {
     "cell_type": "code",
     "checksum": "e7215bcc7c13ca06f660ab7c1cc4d1ce",
     "grade": false,
     "grade_id": "cell-0779613f12782c08",
     "locked": false,
     "schema_version": 3,
     "solution": true,
     "task": false
    },
    "revert": "suitable_metrics = []\n\n# YOUR CODE HERE\nraise NotImplementedError()",
    "slideshow": {
     "slide_type": ""
    },
    "tags": []
   },
   "outputs": [],
   "source": [
    "#\n",
    "# <<< INSERT CODE HERE >>>\n",
    "#\n",
    "\n",
    "from sklearn.metrics import accuracy_score, precision_score, recall_score, f1_score, roc_auc_score\n",
    "\n",
    "suitable_metrics = [accuracy_score, precision_score, f1_score]"
   ]
  },
  {
   "cell_type": "code",
   "execution_count": 33,
   "metadata": {
    "colab": {
     "base_uri": "https://localhost:8080/"
    },
    "deletable": false,
    "editable": false,
    "id": "rezKc6J-qHaq",
    "nbgrader": {
     "cell_type": "code",
     "checksum": "b12e144acc20bc390a179e3d26c9a26d",
     "grade": false,
     "grade_id": "cell-b3da5e43f8246c5c",
     "locked": true,
     "schema_version": 3,
     "solution": false,
     "task": false
    },
    "outputId": "283afb0f-8074-424c-9028-2599a221f4cc"
   },
   "outputs": [
    {
     "name": "stdout",
     "output_type": "stream",
     "text": [
      "Identified metrics:\n",
      "===================\n",
      "accuracy_score\n",
      "precision_score\n",
      "f1_score\n"
     ]
    }
   ],
   "source": [
    "print_selection(suitable_metrics, 'metrics')"
   ]
  },
  {
   "cell_type": "code",
   "execution_count": 34,
   "metadata": {
    "deletable": false,
    "editable": false,
    "id": "T-yQEvKmrF5t",
    "nbgrader": {
     "cell_type": "code",
     "checksum": "166a70605525aa3acc59cc6fa6f933cf",
     "grade": false,
     "grade_id": "cell-f1d23997e6573220",
     "locked": true,
     "schema_version": 3,
     "solution": false,
     "task": false
    },
    "slideshow": {
     "slide_type": ""
    },
    "tags": []
   },
   "outputs": [],
   "source": [
    "# Tests\n",
    "\n",
    "assert len(suitable_metrics) >= 3\n",
    "\n",
    "assert np.all([cur_metric.__module__.startswith('sklearn')  \\\n",
    "          for cur_metric in suitable_metrics]), \\\n",
    "          \"Only use classes from sklearn!\"\n",
    "\n",
    "assert np.all([callable(cur_metric) \\\n",
    "        for cur_metric in suitable_metrics]), \\\n",
    "        \"Metrics must be functions\""
   ]
  },
  {
   "cell_type": "code",
   "execution_count": 35,
   "metadata": {
    "deletable": false,
    "editable": false,
    "nbgrader": {
     "cell_type": "code",
     "checksum": "af26c0a88d251aaffc7c84386d28b716",
     "grade": true,
     "grade_id": "cell-1954b87b00014b84",
     "locked": true,
     "points": 1,
     "schema_version": 3,
     "solution": false,
     "task": false
    },
    "slideshow": {
     "slide_type": ""
    },
    "tags": []
   },
   "outputs": [],
   "source": [
    "# hidden tests, DO NOT MODIFY OR COPY THIS CELL!!\n"
   ]
  },
  {
   "cell_type": "markdown",
   "metadata": {
    "deletable": false,
    "editable": false,
    "id": "Me8lb4YDtwKr",
    "nbgrader": {
     "cell_type": "markdown",
     "checksum": "ca53da53b935e325078ab92994372b9e",
     "grade": false,
     "grade_id": "cell-3de226e8005dd0f3",
     "locked": true,
     "schema_version": 3,
     "solution": false,
     "task": false
    }
   },
   "source": [
    "Now calculate the metrics for the given validation data.\n",
    "- Use the predictions from the previous experiment and calculate the values of the different metrics in `suitable_metrics`.  \n",
    "- Return these scores as a dictionary with metric names as keys and the performance values as values. "
   ]
  },
  {
   "cell_type": "code",
   "execution_count": 36,
   "metadata": {
    "deletable": false,
    "editable": true,
    "id": "YM24q4TfoQun",
    "nbgrader": {
     "cell_type": "code",
     "checksum": "2ddf64bb29d105bcdc9e79fd498cb1cf",
     "grade": false,
     "grade_id": "cell-cfd1d591383b8836",
     "locked": false,
     "schema_version": 3,
     "solution": true,
     "task": false
    },
    "revert": "def compare_metrics(y_true:pd.DataFrame, y_pred:pd.DataFrame) -> dict:\n  scores = {} # dict of metric name -> metric value/score\n  # YOUR CODE HERE\n  raise NotImplementedError()\n  return scores",
    "slideshow": {
     "slide_type": ""
    },
    "tags": []
   },
   "outputs": [],
   "source": [
    "#\n",
    "# <<< INSERT CODE HERE >>>\n",
    "#\n",
    "\n",
    "\n",
    "def preprocess_labels(y_true: pd.Series) -> np.ndarray:\n",
    "    le = LabelEncoder()\n",
    "    df = pd.DataFrame({\"class\": y_true})\n",
    "    y_numeric = le.fit_transform(df[\"class\"])\n",
    "    return y_numeric\n",
    "\n",
    "\n",
    "def compare_metrics(y_true: pd.DataFrame, y_pred: pd.DataFrame) -> dict:\n",
    "    scores = {}\n",
    "\n",
    "    y_true_numeric = preprocess_labels(y_true)\n",
    "\n",
    "    scores[\"accuracy\"] = accuracy_score(y_true_numeric, y_pred)\n",
    "    scores[\"precision\"] = precision_score(y_true_numeric, y_pred, average=\"macro\")\n",
    "    scores[\"f1\"] = f1_score(y_true_numeric, y_pred, average=\"macro\")\n",
    "\n",
    "    return scores"
   ]
  },
  {
   "cell_type": "code",
   "execution_count": 37,
   "metadata": {
    "deletable": false,
    "editable": false,
    "id": "EPheq_GPo-sS",
    "nbgrader": {
     "cell_type": "code",
     "checksum": "1293902f207a1b15729062a8a98560ef",
     "grade": false,
     "grade_id": "cell-215b8ff4cddc06c5",
     "locked": true,
     "schema_version": 3,
     "solution": false,
     "task": false
    }
   },
   "outputs": [],
   "source": [
    "def print_scores(scores: dict):\n",
    "  print(\"\\nScores:\\n=======\")\n",
    "  for metric_name, metric_value in scores.items():\n",
    "    print(f\"{metric_name}: {metric_value}\")"
   ]
  },
  {
   "cell_type": "code",
   "execution_count": 38,
   "metadata": {
    "colab": {
     "base_uri": "https://localhost:8080/"
    },
    "deletable": false,
    "editable": false,
    "id": "9eJ3AOsCoS_F",
    "nbgrader": {
     "cell_type": "code",
     "checksum": "c03e709efe067c2ad3fd54cc0a71f1cc",
     "grade": false,
     "grade_id": "cell-e4b88dc70ef5b26a",
     "locked": true,
     "schema_version": 3,
     "solution": false,
     "task": false
    },
    "outputId": "489cf733-737f-4b47-ede5-8e125d24b4ea",
    "slideshow": {
     "slide_type": ""
    },
    "tags": []
   },
   "outputs": [
    {
     "name": "stdout",
     "output_type": "stream",
     "text": [
      "\n",
      "Scores:\n",
      "=======\n",
      "accuracy: 0.3373891718543671\n",
      "precision: 0.20507059870425134\n",
      "f1: 0.18551243298387896\n"
     ]
    }
   ],
   "source": [
    "metrics_scores = compare_metrics(y_valid, y_pred)\n",
    "print_scores(metrics_scores)"
   ]
  },
  {
   "cell_type": "code",
   "execution_count": 39,
   "metadata": {
    "deletable": false,
    "editable": false,
    "id": "JV5vqzZRpIsl",
    "nbgrader": {
     "cell_type": "code",
     "checksum": "eabf8153ce1a9758ed1401b2c0f84694",
     "grade": true,
     "grade_id": "cell-7059439c9a5324bd",
     "locked": true,
     "points": 2,
     "schema_version": 3,
     "solution": false,
     "task": false
    },
    "slideshow": {
     "slide_type": ""
    },
    "tags": []
   },
   "outputs": [],
   "source": [
    "# hidden tests, DO NOT MODIFY OR COPY THIS CELL!!\n"
   ]
  },
  {
   "cell_type": "markdown",
   "metadata": {
    "deletable": false,
    "editable": false,
    "nbgrader": {
     "cell_type": "markdown",
     "checksum": "6233bb000a3f23081641d5beb785fa46",
     "grade": false,
     "grade_id": "cell-1529697c73a2f625",
     "locked": true,
     "schema_version": 3,
     "solution": false,
     "task": false
    }
   },
   "source": [
    "### 7.4 Explore different scaling approaches\n",
    "For some machine learning methods, the value range of the feature data can have a huge impact. Usually, it is best to normalize the value ranges of the individual features. In sklearn this is achieved using so-called scalers.\n",
    "\n",
    "- Use one ML method from your selection, for which a feature normalization would make a difference (you can try out different ones and also go back and add one if necessary). \n",
    "- Try and compare three different scaling methods.\n",
    "- Compare the scores and check if it makes a difference."
   ]
  },
  {
   "cell_type": "code",
   "execution_count": 40,
   "metadata": {
    "deletable": false,
    "nbgrader": {
     "cell_type": "code",
     "checksum": "1707a132e2d56f9fdd6c8783cdab9506",
     "grade": false,
     "grade_id": "cell-14657e217e6a5ceb",
     "locked": false,
     "schema_version": 3,
     "solution": true,
     "task": false
    },
    "revert": "from sklearn.pipeline import make_pipeline\n\ndef fit_pipeline(X_train:pd.DataFrame, \n                    y_train:pd.DataFrame, \n                    X_valid:pd.DataFrame, \n                    y_valid:pd.DataFrame, \n                    model_class: type, \n                    scaler_class:type, \n                    metric_func:type):\n  # build a sklearn pipeline using the scaler and the model \n  # train the pipeline, and predict on the valid data\n  # calculate the performance using the metric_func on the predictions and y_valid\n  # return the calculated performance\n  score = 0.0\n  # YOUR CODE HERE\n  raise NotImplementedError()\n  return score\n\n\ndef compare_scaling(X_train:pd.DataFrame, \n                    y_train:pd.DataFrame, \n                    X_valid:pd.DataFrame, \n                    y_valid:pd.DataFrame, \n                    model_class: type, \n                    metric_func: type):\n    scores = {}\n\n    # YOUR CODE HERE\n    raise NotImplementedError()\n\n    return scores"
   },
   "outputs": [],
   "source": [
    "#\n",
    "# <<< INSERT CODE HERE >>>\n",
    "#\n",
    "\n",
    "\n",
    "def fit_pipeline(X_train: pd.DataFrame, y_train: pd.DataFrame, X_valid: pd.DataFrame, y_valid: pd.DataFrame, model_class: type, scaler_class: type, metric_func: type):\n",
    "    # build a sklearn pipeline using the scaler and the model\n",
    "    # train the pipeline, and predict on the valid data\n",
    "    # calculate the performance using the metric_func on the predictions and y_valid\n",
    "    # return the calculated performance\n",
    "    from sklearn.pipeline import make_pipeline\n",
    "\n",
    "    pipeline = make_pipeline(scaler_class(), model_class(random_state=seed))\n",
    "    pipeline.fit(X_train, y_train)\n",
    "    y_pred = pipeline.predict(X_valid)\n",
    "    score = metric_func(y_valid, y_pred)\n",
    "    return score\n",
    "\n",
    "\n",
    "def compare_scaling(X_train: pd.DataFrame, y_train: pd.DataFrame, X_valid: pd.DataFrame, y_valid: pd.DataFrame, model_class: type, metric_func: type):\n",
    "    from sklearn.preprocessing import StandardScaler, MinMaxScaler, RobustScaler\n",
    "\n",
    "    scores = {}\n",
    "    scalers = {\"StandardScaler\": StandardScaler, \"MinMaxScaler\": MinMaxScaler, \"RobustScaler\": RobustScaler}\n",
    "    for scaler_name, scaler_class in scalers.items():\n",
    "        score = fit_pipeline(X_train, y_train, X_valid, y_valid, model_class, scaler_class, metric_func)\n",
    "        scores[scaler_name] = score\n",
    "    return scores"
   ]
  },
  {
   "cell_type": "code",
   "execution_count": 41,
   "metadata": {
    "deletable": false,
    "editable": false,
    "nbgrader": {
     "cell_type": "code",
     "checksum": "b49b5eff0f62fd704a792fe21ebcf212",
     "grade": false,
     "grade_id": "cell-535e9d992ee95339",
     "locked": true,
     "schema_version": 3,
     "solution": false,
     "task": false
    }
   },
   "outputs": [
    {
     "name": "stdout",
     "output_type": "stream",
     "text": [
      "Choosen model: RandomForestClassifier\n",
      "Choosen metric: accuracy_score\n"
     ]
    }
   ],
   "source": [
    "model_idx = 0 \n",
    "metric_idx = 0\n",
    "\n",
    "choosen_model_class = suitable_ml_methods[model_idx]\n",
    "choosen_metric_func = suitable_metrics[metric_idx]\n",
    "print(f\"Choosen model: {choosen_model_class.__name__}\")\n",
    "print(f\"Choosen metric: {choosen_metric_func.__name__}\")"
   ]
  },
  {
   "cell_type": "code",
   "execution_count": 42,
   "metadata": {
    "deletable": false,
    "editable": false,
    "nbgrader": {
     "cell_type": "code",
     "checksum": "4f2e5c8e70c213750733bd1c3be1c697",
     "grade": false,
     "grade_id": "cell-d4cf6d57f91eb43b",
     "locked": true,
     "schema_version": 3,
     "solution": false,
     "task": false
    }
   },
   "outputs": [
    {
     "name": "stdout",
     "output_type": "stream",
     "text": [
      "\n",
      "Scores:\n",
      "=======\n",
      "StandardScaler: 0.34087907941897755\n",
      "MinMaxScaler: 0.3395585738539898\n",
      "RobustScaler: 0.3401245048104131\n"
     ]
    }
   ],
   "source": [
    "scaling_scores = compare_scaling(X_train, y_train, X_valid, y_valid, \n",
    "                                 choosen_model_class, choosen_metric_func)\n",
    "print_scores(scaling_scores)"
   ]
  },
  {
   "cell_type": "code",
   "execution_count": 43,
   "metadata": {
    "deletable": false,
    "editable": false,
    "nbgrader": {
     "cell_type": "code",
     "checksum": "a29ae9ebaab90f8223b15cffc95efed2",
     "grade": true,
     "grade_id": "cell-50a010c43cde7065",
     "locked": true,
     "points": 0,
     "schema_version": 3,
     "solution": false,
     "task": false
    }
   },
   "outputs": [],
   "source": [
    "# hidden tests, DO NOT MODIFY OR COPY THIS CELL!!\n"
   ]
  },
  {
   "cell_type": "code",
   "execution_count": 44,
   "metadata": {
    "deletable": false,
    "editable": true,
    "id": "gOgu1v9Ypoz6",
    "nbgrader": {
     "cell_type": "code",
     "checksum": "666e1fb6061689359ccf285b33238b51",
     "grade": false,
     "grade_id": "cell-6a59cf2fd0a99286",
     "locked": false,
     "schema_version": 3,
     "solution": true,
     "task": false
    },
    "revert": "from sklearn.pipeline import make_pipeline\n\ndef fit_pipeline(X_train:pd.DataFrame, \n                    y_train:pd.DataFrame, \n                    X_valid:pd.DataFrame, \n                    y_valid:pd.DataFrame, \n                    model_class: type, \n                    scaler_class:type, \n                    metric_func:type):\n  # build a sklearn pipeline using the scaler and the model \n  # train the pipeline, and predict on the valid data\n  # calculate the performance using the metric_func on the predictions and y_valid\n  # return the calculated performance\n  score = 0.0\n  # YOUR CODE HERE\n  raise NotImplementedError()\n  return score\n\n\ndef compare_scaling(X_train:pd.DataFrame, \n                    y_train:pd.DataFrame, \n                    X_valid:pd.DataFrame, \n                    y_valid:pd.DataFrame, \n                    model_class: type, \n                    metric_func: type):\n    scores = {}\n\n    # YOUR CODE HERE\n    raise NotImplementedError()\n\n    return scores",
    "slideshow": {
     "slide_type": ""
    },
    "tags": []
   },
   "outputs": [],
   "source": [
    "#\n",
    "# <<< INSERT CODE HERE >>>\n",
    "#\n",
    "\n",
    "\n",
    "def fit_pipeline(X_train: pd.DataFrame, y_train: pd.DataFrame, X_valid: pd.DataFrame, y_valid: pd.DataFrame, model_class: type, scaler_class: type, metric_func: type):\n",
    "    # build a sklearn pipeline using the scaler and the model\n",
    "    # train the pipeline, and predict on the valid data\n",
    "    # calculate the performance using the metric_func on the predictions and y_valid\n",
    "    # return the calculated performance\n",
    "    from sklearn.pipeline import make_pipeline\n",
    "\n",
    "    pipeline = make_pipeline(scaler_class(), model_class(random_state=seed))\n",
    "    pipeline.fit(X_train, y_train)\n",
    "    y_pred = pipeline.predict(X_valid)\n",
    "    score = metric_func(y_valid, y_pred)\n",
    "    return score\n",
    "\n",
    "\n",
    "def compare_scaling(X_train: pd.DataFrame, y_train: pd.DataFrame, X_valid: pd.DataFrame, y_valid: pd.DataFrame, model_class: type, metric_func: type):\n",
    "    from sklearn.preprocessing import StandardScaler, MinMaxScaler, RobustScaler\n",
    "\n",
    "    scores = {}\n",
    "    scalers = {\"StandardScaler\": StandardScaler, \"MinMaxScaler\": MinMaxScaler, \"RobustScaler\": RobustScaler}\n",
    "    for scaler_name, scaler_class in scalers.items():\n",
    "        score = fit_pipeline(X_train, y_train, X_valid, y_valid, model_class, scaler_class, metric_func)\n",
    "        scores[scaler_name] = score\n",
    "    return scores"
   ]
  },
  {
   "cell_type": "code",
   "execution_count": 45,
   "metadata": {
    "colab": {
     "base_uri": "https://localhost:8080/"
    },
    "deletable": false,
    "editable": false,
    "id": "6JV5ihD7vyDh",
    "nbgrader": {
     "cell_type": "code",
     "checksum": "98bd755a0cb39d1abe78c502d805a2f2",
     "grade": false,
     "grade_id": "cell-65613abe29083483",
     "locked": true,
     "schema_version": 3,
     "solution": false,
     "task": false
    },
    "outputId": "b8b6e289-8331-460b-da7a-d9ead059db72"
   },
   "outputs": [
    {
     "name": "stdout",
     "output_type": "stream",
     "text": [
      "Choosen model: RandomForestClassifier\n",
      "Choosen metric: accuracy_score\n"
     ]
    }
   ],
   "source": [
    "model_idx = 0 \n",
    "metric_idx = 0\n",
    "\n",
    "choosen_model_class = suitable_ml_methods[model_idx]\n",
    "choosen_metric_func = suitable_metrics[metric_idx]\n",
    "print(f\"Choosen model: {choosen_model_class.__name__}\")\n",
    "print(f\"Choosen metric: {choosen_metric_func.__name__}\")"
   ]
  },
  {
   "cell_type": "code",
   "execution_count": 46,
   "metadata": {
    "colab": {
     "base_uri": "https://localhost:8080/"
    },
    "deletable": false,
    "editable": false,
    "id": "LqFu2fCrpoI1",
    "nbgrader": {
     "cell_type": "code",
     "checksum": "d5bb01b6f373b17bcad0ba714ac21eb9",
     "grade": false,
     "grade_id": "cell-8ff20c26f6cafc57",
     "locked": true,
     "schema_version": 3,
     "solution": false,
     "task": false
    },
    "outputId": "bd2163a5-12e6-4580-9059-5430621e268b"
   },
   "outputs": [
    {
     "name": "stdout",
     "output_type": "stream",
     "text": [
      "\n",
      "Scores:\n",
      "=======\n",
      "StandardScaler: 0.34087907941897755\n",
      "MinMaxScaler: 0.3395585738539898\n",
      "RobustScaler: 0.3401245048104131\n"
     ]
    }
   ],
   "source": [
    "scaling_scores = compare_scaling(X_train, y_train, X_valid, y_valid, \n",
    "                                 choosen_model_class, choosen_metric_func)\n",
    "print_scores(scaling_scores)"
   ]
  },
  {
   "cell_type": "code",
   "execution_count": 47,
   "metadata": {
    "deletable": false,
    "editable": false,
    "id": "3mjW4_NtrRNg",
    "nbgrader": {
     "cell_type": "code",
     "checksum": "938545d57f218100ee7a62cba201b628",
     "grade": true,
     "grade_id": "cell-2f59eee02236a4b2",
     "locked": true,
     "points": 3,
     "schema_version": 3,
     "solution": false,
     "task": false
    }
   },
   "outputs": [],
   "source": [
    "# hidden tests, DO NOT MODIFY OR COPY THIS CELL!!\n"
   ]
  },
  {
   "cell_type": "markdown",
   "metadata": {
    "deletable": false,
    "editable": false,
    "id": "goNMdwa3rUxP",
    "nbgrader": {
     "cell_type": "markdown",
     "checksum": "4c46029da96d630cd9fb6fdb4855b4e0",
     "grade": false,
     "grade_id": "cell-32a12472793ff276",
     "locked": true,
     "schema_version": 3,
     "solution": false,
     "task": false
    },
    "slideshow": {
     "slide_type": ""
    },
    "tags": []
   },
   "source": [
    "### 7.5 Experiment with different train/valid splits\n",
    "\n",
    "Try out **at least 4 different train-valid splits**. \n",
    "- Use the `data_train` DataFrame as input.\n",
    "- Use splits other than those in Section 7.1.\n",
    "- Choose one ML algorithm (e.g. from Section 7.1) and one metric from Section 7.3.\n",
    "- Evaluate the performance of the different splits.\n",
    "- Return these scores as a dict with a name of the train-valid split as keys and the score as values.\n",
    "\n",
    "Hint: you can re-use the `create_dataset` function from Section 7.1."
   ]
  },
  {
   "cell_type": "code",
   "execution_count": 48,
   "metadata": {
    "deletable": false,
    "id": "HEEFCKfHrg7F",
    "nbgrader": {
     "cell_type": "code",
     "checksum": "e343e9ed0e2d103d808cbaada7665677",
     "grade": false,
     "grade_id": "cell-046c5a06e4c8b558",
     "locked": false,
     "schema_version": 3,
     "solution": true,
     "task": false
    },
    "revert": "def compare_train_valid_splits(df:pd.DataFrame) -> typing.Dict[str, float]:\n    scores = {}\n    # YOUR CODE HERE\n    raise NotImplementedError()\n    return scores"
   },
   "outputs": [],
   "source": [
    "#\n",
    "# <<< INSERT CODE HERE >>>\n",
    "#\n",
    "\n",
    "\n",
    "def compare_train_valid_splits(df: pd.DataFrame) -> dict:\n",
    "    scores = {}\n",
    "    model = RandomForestClassifier(random_state=seed)\n",
    "    scaler = StandardScaler()\n",
    "\n",
    "    # 1) 70-30 random split\n",
    "    X, y, _, _ = preprocess_data(df)\n",
    "    X_train, X_valid, y_train, y_valid = train_test_split(X, y, test_size=0.3, random_state=seed)\n",
    "    model.fit(X_train, y_train)\n",
    "    scores[\"random_70_30\"] = model.score(X_valid, y_valid)\n",
    "\n",
    "    # 2) 80-20 random split\n",
    "    X_train, X_valid, y_train, y_valid = train_test_split(X, y, test_size=0.2, random_state=seed)\n",
    "    model.fit(X_train, y_train)\n",
    "    scores[\"random_80_20\"] = model.score(X_valid, y_valid)\n",
    "\n",
    "    # 3) stratified split 75-25\n",
    "    X_train, X_valid, y_train, y_valid = train_test_split(X, y, test_size=0.25, stratify=y, random_state=seed)\n",
    "    model.fit(X_train, y_train)\n",
    "    scores[\"stratified_75_25\"] = model.score(X_valid, y_valid)\n",
    "\n",
    "    # 4) time-based split (last 25% as validation)\n",
    "    split_idx = int(len(df) * 0.75)\n",
    "    X_train, y_train = X[:split_idx], y[:split_idx]\n",
    "    X_valid, y_valid = X[split_idx:], y[split_idx:]\n",
    "    model.fit(X_train, y_train)\n",
    "    scores[\"temporal_75_25\"] = model.score(X_valid, y_valid)\n",
    "\n",
    "    return scores"
   ]
  },
  {
   "cell_type": "code",
   "execution_count": 49,
   "metadata": {
    "colab": {
     "base_uri": "https://localhost:8080/"
    },
    "deletable": false,
    "editable": false,
    "id": "-uZbHHAnrdzQ",
    "nbgrader": {
     "cell_type": "code",
     "checksum": "b9014a9b4c988e68ff3f3ebb16d7605b",
     "grade": false,
     "grade_id": "cell-684eac7aa1305592",
     "locked": true,
     "schema_version": 3,
     "solution": false,
     "task": false
    },
    "outputId": "8191ccf3-c220-4d48-d3ba-c9e0bf8de809"
   },
   "outputs": [
    {
     "name": "stdout",
     "output_type": "stream",
     "text": [
      "\n",
      "Scores:\n",
      "=======\n",
      "random_70_30: 0.3413192479406401\n",
      "random_80_20: 0.34003018298434257\n",
      "stratified_75_25: 0.3413069725324479\n",
      "temporal_75_25: 0.34055236945366735\n"
     ]
    }
   ],
   "source": [
    "split_scores = compare_train_valid_splits(data_train)\n",
    "\n",
    "print_scores(split_scores)"
   ]
  },
  {
   "cell_type": "code",
   "execution_count": 50,
   "metadata": {
    "deletable": false,
    "editable": false,
    "id": "2fVdL1r_sP2u",
    "nbgrader": {
     "cell_type": "code",
     "checksum": "ed07b08b5e36625adfba71252bcbe3a6",
     "grade": true,
     "grade_id": "cell-953edd7ab64e71a5",
     "locked": true,
     "points": 3,
     "schema_version": 3,
     "solution": false,
     "task": false
    }
   },
   "outputs": [],
   "source": [
    "# hidden tests, DO NOT MODIFY OR COPY THIS CELL!!\n"
   ]
  },
  {
   "cell_type": "markdown",
   "metadata": {
    "deletable": false,
    "editable": false,
    "id": "lyM_PLpPrrC2",
    "nbgrader": {
     "cell_type": "markdown",
     "checksum": "c1100815ff91abdda9fdb4ea716181db",
     "grade": false,
     "grade_id": "cell-1e46545399085178",
     "locked": true,
     "schema_version": 3,
     "solution": false,
     "task": false
    }
   },
   "source": [
    "### 7.6 Experiment with different feature selection methods\n",
    "\n",
    "- Explore **at least 2 different feature selection methods** from `sklearn.feature_selection` and evaluate a baseline ML setup (e.g. the same setup as in Section 7.5). \n",
    "- Use the original train-valid split from Section 7.2.\n",
    "- Return the scores as a dict with the features selections name as string keys and the scores as values."
   ]
  },
  {
   "cell_type": "code",
   "execution_count": 51,
   "metadata": {
    "deletable": false,
    "id": "y1RZ1HpQsqVq",
    "nbgrader": {
     "cell_type": "code",
     "checksum": "501edc2e60849a302389c85fdd9d60cb",
     "grade": false,
     "grade_id": "cell-33f5b8cd1439cc76",
     "locked": false,
     "schema_version": 3,
     "solution": true,
     "task": false
    },
    "revert": "def compare_feature_selection(X_train:pd.DataFrame, \n                              X_valid:pd.DataFrame, \n                              y_train:pd.DataFrame, \n                              y_valid:pd.DataFrame) -> typing.Dict[str, float]:\n  scores = {}\n  # YOUR CODE HERE\n  raise NotImplementedError()\n  return scores"
   },
   "outputs": [],
   "source": [
    "#\n",
    "# <<< INSERT CODE HERE >>>\n",
    "#\n",
    "\n",
    "\n",
    "def compare_feature_selection(X_train: pd.DataFrame, X_valid: pd.DataFrame, y_train: pd.DataFrame, y_valid: pd.DataFrame) -> typing.Dict[str, float]:\n",
    "    X_train_processed, y_train_processed, scaler, _ = preprocess_data(pd.concat([X_train, y_train.to_frame(name=\"class\")], axis=1))\n",
    "    X_valid_processed, y_valid_processed, _, _ = preprocess_data(pd.concat([X_valid, y_valid.to_frame(name=\"class\")], axis=1))\n",
    "\n",
    "    scores = {}\n",
    "\n",
    "    # 1) SelectFromModel\n",
    "    from sklearn.feature_selection import SelectFromModel\n",
    "\n",
    "    selector_rf = SelectFromModel(RandomForestClassifier(random_state=42), max_features=2)\n",
    "    X_train_rf = selector_rf.fit_transform(X_train_processed, y_train_processed)\n",
    "    X_valid_rf = selector_rf.transform(X_valid_processed)\n",
    "\n",
    "    model_rf = RandomForestClassifier(random_state=42)\n",
    "    model_rf.fit(X_train_rf, y_train_processed)\n",
    "    scores[\"SelectFromModel with RandomForest\"] = model_rf.score(X_valid_rf, y_valid_processed)\n",
    "\n",
    "    # 2) Mutual Information\n",
    "    from sklearn.feature_selection import SelectKBest, mutual_info_classif\n",
    "\n",
    "    selector_mi = SelectKBest(score_func=mutual_info_classif, k=2)\n",
    "    X_train_mi = selector_mi.fit_transform(X_train_processed, y_train_processed)\n",
    "    X_valid_mi = selector_mi.transform(X_valid_processed)\n",
    "\n",
    "    model_mi = RandomForestClassifier(random_state=42)\n",
    "    model_mi.fit(X_train_mi, y_train_processed)\n",
    "    scores[\"SelectKBest with Mutual Information\"] = model_mi.score(X_valid_mi, y_valid_processed)\n",
    "\n",
    "    # 3) Variance Threshold\n",
    "    from sklearn.feature_selection import VarianceThreshold\n",
    "\n",
    "    selector_var = VarianceThreshold(threshold=0.1)  # Remove features with low variance\n",
    "    X_train_var = selector_var.fit_transform(X_train_processed)\n",
    "    X_valid_var = selector_var.transform(X_valid_processed)\n",
    "\n",
    "    model_var = RandomForestClassifier(random_state=42)\n",
    "    model_var.fit(X_train_var, y_train_processed)\n",
    "    scores[\"Variance Threshold with RandomForest\"] = model_var.score(X_valid_var, y_valid_processed)\n",
    "\n",
    "    return scores"
   ]
  },
  {
   "cell_type": "code",
   "execution_count": 52,
   "metadata": {
    "colab": {
     "base_uri": "https://localhost:8080/"
    },
    "deletable": false,
    "editable": false,
    "id": "H-QKbNhFslWC",
    "nbgrader": {
     "cell_type": "code",
     "checksum": "6845e07b9b17966b1921186b479a5ab5",
     "grade": false,
     "grade_id": "cell-18714ac65d2d75fa",
     "locked": true,
     "schema_version": 3,
     "solution": false,
     "task": false
    },
    "outputId": "9b49dad5-1ace-44d4-c1f3-66bc0ab17070"
   },
   "outputs": [
    {
     "name": "stdout",
     "output_type": "stream",
     "text": [
      "\n",
      "Scores:\n",
      "=======\n",
      "SelectFromModel with RandomForest: 0.21929824561403508\n",
      "SelectKBest with Mutual Information: 0.21656291265798905\n",
      "Variance Threshold with RandomForest: 0.33635163176759103\n"
     ]
    }
   ],
   "source": [
    "feat_sel_scores = compare_feature_selection(X_train, X_valid, y_train, y_valid)\n",
    "\n",
    "print_scores(feat_sel_scores)"
   ]
  },
  {
   "cell_type": "code",
   "execution_count": 53,
   "metadata": {
    "deletable": false,
    "editable": false,
    "id": "W9jfY6K1vKYM",
    "nbgrader": {
     "cell_type": "code",
     "checksum": "60b07b8af11960e976862c0853751dc7",
     "grade": true,
     "grade_id": "cell-07fe9b68cf5329e0",
     "locked": true,
     "points": 3,
     "schema_version": 3,
     "solution": false,
     "task": false
    }
   },
   "outputs": [],
   "source": [
    "# hidden tests, DO NOT MODIFY OR COPY THIS CELL!!\n"
   ]
  },
  {
   "cell_type": "markdown",
   "metadata": {
    "deletable": false,
    "editable": false,
    "id": "jHXbpbvPvRSb",
    "nbgrader": {
     "cell_type": "markdown",
     "checksum": "e8f2eba49ba4f49e5660dd368fc80d20",
     "grade": false,
     "grade_id": "cell-574b6b16a96fa7b7",
     "locked": true,
     "schema_version": 3,
     "solution": false,
     "task": false
    }
   },
   "source": [
    "### 7.7 Try out different ML algorithms\n",
    "\n",
    "- Try out **at least 3 ML methods**.\n",
    "- Use the original train-valid split from Section 7.2.\n",
    "- If your chosen algorithm has specific parameters, explore their effect by using 10-fold cross-validation.\n",
    "- Evaluate the performance of the different methods.\n",
    "- Return these scores as a list."
   ]
  },
  {
   "cell_type": "code",
   "execution_count": 54,
   "metadata": {
    "deletable": false,
    "id": "9UALIIjFv0O7",
    "nbgrader": {
     "cell_type": "code",
     "checksum": "990b82e74239a67dcb49eab4b4000b82",
     "grade": false,
     "grade_id": "cell-67beb4534cd1c8ba",
     "locked": false,
     "schema_version": 3,
     "solution": true,
     "task": false
    },
    "revert": "def compare_methods(X_train:pd.DataFrame, X_valid:pd.DataFrame, \n                    y_train:pd.DataFrame, y_valid:pd.DataFrame) -> typing.Dict[str, float]:\n  scores = {}\n  # YOUR CODE HERE\n  raise NotImplementedError()\n  return scores"
   },
   "outputs": [],
   "source": [
    "#\n",
    "# <<< INSERT CODE HERE >>>\n",
    "#\n",
    "\n",
    "\n",
    "def compare_methods(X_train: pd.DataFrame, X_valid: pd.DataFrame, y_train: pd.DataFrame, y_valid: pd.DataFrame) -> typing.Dict[str, float]:\n",
    "    from sklearn.model_selection import cross_val_score\n",
    "    import warnings\n",
    "    from sklearn.exceptions import ConvergenceWarning\n",
    "\n",
    "    scores = {}\n",
    "\n",
    "    train_data = pd.concat([X_train, y_train.to_frame(name=\"class\")], axis=1)\n",
    "    X_train_processed, y_train_processed, scaler, le = preprocess_data(train_data)\n",
    "\n",
    "    X_valid_processed = scaler.transform(X_valid)\n",
    "    X_valid_processed = pd.DataFrame(X_valid_processed, columns=X_valid.columns, index=X_valid.index)\n",
    "    y_valid_processed = le.transform(y_valid)\n",
    "\n",
    "    for model_class in suitable_ml_methods:\n",
    "        # suppress warnings\n",
    "        if model_class == LogisticRegression:\n",
    "            model = model_class(max_iter=1000, random_state=seed)\n",
    "        else:\n",
    "            model = model_class(random_state=seed)\n",
    "        with warnings.catch_warnings():\n",
    "            warnings.filterwarnings(\"ignore\", category=ConvergenceWarning)\n",
    "\n",
    "            # actual code\n",
    "            cv_scores = cross_val_score(model, X_train_processed, y_train_processed, cv=10, scoring=\"accuracy\")\n",
    "        scores[model_class.__name__] = cv_scores.tolist()\n",
    "\n",
    "    return scores"
   ]
  },
  {
   "cell_type": "code",
   "execution_count": 55,
   "metadata": {
    "colab": {
     "base_uri": "https://localhost:8080/"
    },
    "deletable": false,
    "editable": false,
    "id": "6iQmYBJpvQNH",
    "nbgrader": {
     "cell_type": "code",
     "checksum": "c3a698116b6b6e2c5e1f4aecccc4d34f",
     "grade": false,
     "grade_id": "cell-f5741a2078ffd2e4",
     "locked": true,
     "schema_version": 3,
     "solution": false,
     "task": false
    },
    "outputId": "fc52ca65-1f1b-44eb-f3b1-4458df2e1c53"
   },
   "outputs": [
    {
     "name": "stdout",
     "output_type": "stream",
     "text": [
      "\n",
      "Scores:\n",
      "=======\n",
      "RandomForestClassifier: [0.35251120018863474, 0.33317613770337184, 0.34685215751002124, 0.3459089837302523, 0.33765621315727423, 0.3275170950247583, 0.33797169811320754, 0.3311320754716981, 0.33820754716981133, 0.33561320754716983]\n",
      "DecisionTreeClassifier: [0.291440697948597, 0.28153737326102335, 0.29568497995755716, 0.26786135345437395, 0.28082999292619665, 0.28318792737561893, 0.27806603773584904, 0.27075471698113207, 0.2818396226415094, 0.269811320754717]\n",
      "LogisticRegression: [0.31525583588776235, 0.32162225890120255, 0.32798868191464275, 0.3199717047866069, 0.3305824098090073, 0.31855694411695357, 0.3233490566037736, 0.31933962264150945, 0.31745283018867926, 0.3224056603773585]\n"
     ]
    }
   ],
   "source": [
    "diff_methods_scores = compare_methods(X_train, X_valid, y_train, y_valid)\n",
    "\n",
    "print_scores(diff_methods_scores)"
   ]
  },
  {
   "cell_type": "code",
   "execution_count": 56,
   "metadata": {
    "deletable": false,
    "editable": false,
    "id": "xtbUgf6owRUS",
    "nbgrader": {
     "cell_type": "code",
     "checksum": "69ffd0428ecec95b414767aced05e135",
     "grade": true,
     "grade_id": "cell-29485ebd75ffb81e",
     "locked": true,
     "points": 3,
     "schema_version": 3,
     "solution": false,
     "task": false
    }
   },
   "outputs": [],
   "source": [
    "# hidden tests, DO NOT MODIFY OR COPY THIS CELL!!\n"
   ]
  },
  {
   "cell_type": "markdown",
   "metadata": {
    "deletable": false,
    "editable": false,
    "id": "leZgLcE1wpja",
    "nbgrader": {
     "cell_type": "markdown",
     "checksum": "8a1e9576be1b66ae8868d639a527921b",
     "grade": false,
     "grade_id": "cell-5e401f92eb8ae660",
     "locked": true,
     "schema_version": 3,
     "solution": false,
     "task": false
    },
    "slideshow": {
     "slide_type": ""
    },
    "tags": []
   },
   "source": [
    "### 7.8 Explore the effect of parameters with 10-fold cross-validation\n",
    "\n",
    "- Choose an algorithm from Section 7.7 that has specific parameters. \n",
    "- Explore the effect of these parameters by using 10-fold cross-validation.\n",
    "- Use the whole `data_train` DataFrame.\n",
    "- Do this for at least 3 different parameters.\n",
    "- For each parameter try 2-3 different values.\n",
    "- Evaluate the performance of the different settings by comparing the mean scores.\n",
    "- Return these scores as a list."
   ]
  },
  {
   "cell_type": "code",
   "execution_count": 57,
   "metadata": {
    "deletable": false,
    "editable": true,
    "id": "VRACR9kNwqjZ",
    "nbgrader": {
     "cell_type": "code",
     "checksum": "9f68de96f82840418ca28252efb8c983",
     "grade": false,
     "grade_id": "cell-d3a48d9b972c6fc0",
     "locked": false,
     "schema_version": 3,
     "solution": true,
     "task": false
    },
    "revert": "def compare_param_effect(df:pd.DataFrame) -> typing.Dict[str, float]:\n    scores = {}\n    # YOUR CODE HERE\n    raise NotImplementedError()\n    return scores",
    "slideshow": {
     "slide_type": ""
    },
    "tags": []
   },
   "outputs": [],
   "source": [
    "#\n",
    "# <<< INSERT CODE HERE >>>\n",
    "#\n",
    "\n",
    "\n",
    "def compare_param_effect(df: pd.DataFrame) -> typing.Dict[str, float]:\n",
    "    from sklearn.model_selection import GridSearchCV\n",
    "\n",
    "    X, y, _, _ = preprocess_data(df)\n",
    "    param_grid = {\n",
    "        \"n_estimators\": [100, 200],  # 100 is often sufficient, 200 for complex data\n",
    "        \"max_depth\": [10, 20],  # None often leads to overfitting, 10-20 is typical sweet spot\n",
    "        \"min_samples_split\": [2, 5],  # 2 is default, 5 helps prevent overfitting\n",
    "    }\n",
    "    rf = RandomForestClassifier(random_state=42)\n",
    "    grid_search = GridSearchCV(rf, param_grid, cv=10, n_jobs=-1, verbose=1)  # use all cores\n",
    "    grid_search.fit(X, y)\n",
    "    scores = {f\"n_estimators={params['n_estimators']}, max_depth={params['max_depth']}, min_samples_split={params['min_samples_split']}\": mean_score for params, mean_score in zip(grid_search.cv_results_[\"params\"], grid_search.cv_results_[\"mean_test_score\"])}\n",
    "    return scores"
   ]
  },
  {
   "cell_type": "code",
   "execution_count": 58,
   "metadata": {
    "colab": {
     "base_uri": "https://localhost:8080/"
    },
    "deletable": false,
    "editable": false,
    "id": "o5T9ERckw-9s",
    "nbgrader": {
     "cell_type": "code",
     "checksum": "cc947a5bd367f41320769e93bfdf1969",
     "grade": false,
     "grade_id": "cell-13ac402324c0146f",
     "locked": true,
     "schema_version": 3,
     "solution": false,
     "task": false
    },
    "outputId": "af118e7d-36f5-48d3-f099-6152c27fda93"
   },
   "outputs": [
    {
     "name": "stdout",
     "output_type": "stream",
     "text": [
      "Fitting 10 folds for each of 8 candidates, totalling 80 fits\n"
     ]
    },
    {
     "name": "stderr",
     "output_type": "stream",
     "text": [
      "/opt/conda/lib/python3.11/site-packages/joblib/externals/loky/process_executor.py:752: UserWarning: A worker stopped while some jobs were given to the executor. This can be caused by a too short worker timeout or by a memory leak.\n",
      "  warnings.warn(\n"
     ]
    },
    {
     "name": "stdout",
     "output_type": "stream",
     "text": [
      "\n",
      "Scores:\n",
      "=======\n",
      "n_estimators=100, max_depth=10, min_samples_split=2: 0.3524374432734301\n",
      "n_estimators=200, max_depth=10, min_samples_split=2: 0.3515696006093546\n",
      "n_estimators=100, max_depth=10, min_samples_split=5: 0.35258843294074094\n",
      "n_estimators=200, max_depth=10, min_samples_split=5: 0.3525695401010133\n",
      "n_estimators=100, max_depth=20, min_samples_split=2: 0.3605868739611252\n",
      "n_estimators=200, max_depth=20, min_samples_split=2: 0.3617754677828676\n",
      "n_estimators=100, max_depth=20, min_samples_split=5: 0.3733962086185234\n",
      "n_estimators=200, max_depth=20, min_samples_split=5: 0.37460363477165226\n"
     ]
    }
   ],
   "source": [
    "param_effect_scores = compare_param_effect(data_train)\n",
    "\n",
    "print_scores(param_effect_scores)"
   ]
  },
  {
   "cell_type": "code",
   "execution_count": 59,
   "metadata": {
    "deletable": false,
    "editable": false,
    "nbgrader": {
     "cell_type": "code",
     "checksum": "b781889e2af7a5060f2d20c487d035c8",
     "grade": false,
     "grade_id": "cell-d27530bcb980926e",
     "locked": true,
     "schema_version": 3,
     "solution": false,
     "task": false
    }
   },
   "outputs": [],
   "source": [
    "assert len(param_effect_scores) >= 3"
   ]
  },
  {
   "cell_type": "code",
   "execution_count": 60,
   "metadata": {
    "deletable": false,
    "editable": false,
    "nbgrader": {
     "cell_type": "code",
     "checksum": "c09cff7ab44af27b503448246a4cd683",
     "grade": true,
     "grade_id": "cell-b3a6b02516228bc1",
     "locked": true,
     "points": 3,
     "schema_version": 3,
     "solution": false,
     "task": false
    }
   },
   "outputs": [],
   "source": [
    "# hidden tests, DO NOT MODIFY OR COPY THIS CELL!!\n"
   ]
  },
  {
   "cell_type": "markdown",
   "metadata": {
    "deletable": false,
    "editable": false,
    "id": "WJLAIi6czh2a",
    "nbgrader": {
     "cell_type": "markdown",
     "checksum": "a88fcf299753afe5f7eed78a4d2cb6e7",
     "grade": false,
     "grade_id": "cell-a50e29201546266c",
     "locked": true,
     "schema_version": 3,
     "solution": false,
     "task": false
    },
    "slideshow": {
     "slide_type": ""
    },
    "tags": []
   },
   "source": [
    "### 7.9 Present your best-performing training results\n",
    "\n",
    "- Look back to all the experiments above and figure it out which setup has the best performance.\n",
    "- Visualize how the predictions differ from the ground truth."
   ]
  },
  {
   "cell_type": "code",
   "execution_count": 61,
   "metadata": {
    "deletable": false,
    "editable": false,
    "hidden": true,
    "id": "K0Ka_LnYuJgo",
    "nbgrader": {
     "cell_type": "code",
     "checksum": "3dc189eab9bc963037c47543c7e1d917",
     "grade": false,
     "grade_id": "cell-907be24a9572ebdf",
     "locked": true,
     "schema_version": 3,
     "solution": false,
     "task": false
    }
   },
   "outputs": [],
   "source": [
    "from sklearn.model_selection import train_test_split\n",
    "from sklearn.ensemble import RandomForestClassifier\n",
    "from sklearn.preprocessing import StandardScaler\n",
    "from sklearn.metrics import accuracy_score"
   ]
  },
  {
   "cell_type": "code",
   "execution_count": 62,
   "metadata": {
    "deletable": false,
    "nbgrader": {
     "cell_type": "code",
     "checksum": "64acfbcf2caf2159f7a60de7a7ce1a3a",
     "grade": false,
     "grade_id": "cell-9c1102b5d1934805",
     "locked": false,
     "schema_version": 3,
     "solution": true,
     "task": false
    },
    "revert": "# best configuration\n\nvalid_split = 0.2\nparam = \"gini\" \nmodel = RandomForestClassifier(random_state=student_id, criterion=param) # KNN was also good but more computationally expensive\nscaler = StandardScaler()\nmethod = accuracy_score\nfeatures = ['temp_dailyMean', 'hum_dailyMin', 'hum_dailyMax', 'hum_dailyMean', 'bus', 'subway', 'tram']\nX = data_train[features]\ny = data_train[\"class\"]\n\ndef extract_val_data(X, y, valid_split, random_state):\n    # extract validation data\n\n    # YOUR CODE HERE\n    raise NotImplementedError()\n\n    return X_train, y_train, X_valid, y_valid\n\n\n# predictions\ndef fit(scaler, model, method, X, y, valid_split, random_state):\n\n    # YOUR CODE HERE\n    raise NotImplementedError()\n    \n    return y_pred\n    \n\ny_pred = fit(scaler, model, method, X, y, valid_split, 42)\ny_true = y_valid.values"
   },
   "outputs": [
    {
     "name": "stderr",
     "output_type": "stream",
     "text": [
      "/opt/conda/lib/python3.11/site-packages/sklearn/base.py:493: UserWarning: X does not have valid feature names, but StandardScaler was fitted with feature names\n",
      "  warnings.warn(\n",
      "/opt/conda/lib/python3.11/site-packages/sklearn/base.py:493: UserWarning: X does not have valid feature names, but StandardScaler was fitted with feature names\n",
      "  warnings.warn(\n"
     ]
    },
    {
     "name": "stdout",
     "output_type": "stream",
     "text": [
      "validation accuracy_score: 0.3745\n"
     ]
    }
   ],
   "source": [
    "#\n",
    "# <<< INSERT CODE HERE >>>\n",
    "#\n",
    "\n",
    "df = data_shortened.copy()\n",
    "\n",
    "valid_split = 0.3\n",
    "model = RandomForestClassifier(n_estimators=200, max_depth=20, min_samples_split=5, random_state=seed)\n",
    "method = accuracy_score\n",
    "X = df.drop(columns=[\"class\"])\n",
    "y = df[\"class\"]\n",
    "label_encoder = LabelEncoder()\n",
    "\n",
    "# best configuration:\n",
    "# - model: RandomForestClassifier: n_estimators=200, max_depth=20, min_samples_split=5\n",
    "# - metric: accuracy_score\n",
    "# - scaler: StandardScaler\n",
    "# - split: random 70/30\n",
    "# - feature selection: Variance Threshold\n",
    "\n",
    "\n",
    "def extract_val_data(X, y, valid_split, random_state):\n",
    "    if hasattr(X, \"values\"):\n",
    "        X = X.values\n",
    "    if hasattr(y, \"values\"):\n",
    "        y = y.values\n",
    "\n",
    "    X_train, X_valid, y_train, y_valid = train_test_split(X, y, test_size=valid_split, random_state=random_state, stratify=y)\n",
    "    return X_train, y_train, X_valid, y_valid\n",
    "\n",
    "\n",
    "def fit(scaler, model, method, X, y, valid_split, random_state):\n",
    "    y_encoded = label_encoder.fit_transform(y)\n",
    "\n",
    "    X_train, y_train, X_valid, y_valid = extract_val_data(X, y_encoded, valid_split, random_state)\n",
    "\n",
    "    X_train_scaled = scaler.transform(X_train)\n",
    "    X_valid_scaled = scaler.transform(X_valid)\n",
    "\n",
    "    model.fit(X_train_scaled, y_train)\n",
    "\n",
    "    y_pred = model.predict(X_valid_scaled)\n",
    "\n",
    "    score = method(y_valid, y_pred)\n",
    "    print(f\"validation {method.__name__}: {score:.4f}\")\n",
    "    return y_pred, y_valid\n",
    "\n",
    "\n",
    "y_pred, y_true = fit(scaler, model, method, X, y, valid_split, 42)"
   ]
  },
  {
   "cell_type": "code",
   "execution_count": 63,
   "metadata": {
    "deletable": false,
    "editable": false,
    "nbgrader": {
     "cell_type": "code",
     "checksum": "dd053f40e2cbec5311a44c69470bd796",
     "grade": false,
     "grade_id": "cell-8d1859a75a09109e",
     "locked": true,
     "schema_version": 3,
     "solution": false,
     "task": false
    }
   },
   "outputs": [],
   "source": [
    "y_pred = label_encoder.inverse_transform(y_pred)\n",
    "y_true = label_encoder.inverse_transform(y_true)"
   ]
  },
  {
   "cell_type": "code",
   "execution_count": 64,
   "metadata": {
    "deletable": false,
    "editable": false,
    "nbgrader": {
     "cell_type": "code",
     "checksum": "f12a3fca8ff754fe28f4fad8981821fa",
     "grade": true,
     "grade_id": "cell-92ecf9857c15960d",
     "locked": true,
     "points": 1,
     "schema_version": 3,
     "solution": false,
     "task": false
    }
   },
   "outputs": [],
   "source": [
    "# hidden tests, DO NOT MODIFY OR COPY THIS CELL!!\n"
   ]
  },
  {
   "cell_type": "code",
   "execution_count": 67,
   "metadata": {
    "deletable": false,
    "nbgrader": {
     "cell_type": "code",
     "checksum": "c2db93cf8a0c533f0d3ef2316082422d",
     "grade": true,
     "grade_id": "cell-d6f5694c06abf07e",
     "locked": false,
     "points": 1,
     "schema_version": 3,
     "solution": true,
     "task": false
    },
    "revert": "from sklearn.metrics import classification_report  \n\n# Generate the classification report with disruption names\n# YOUR CODE HERE\nraise NotImplementedError()\n\nprint(report)"
   },
   "outputs": [
    {
     "name": "stdout",
     "output_type": "stream",
     "text": [
      "                               precision    recall  f1-score   support\n",
      "\n",
      "            Construction work       0.40      0.09      0.15        64\n",
      "                Contamination       0.00      0.00      0.00        65\n",
      "                        Delay       0.58      0.71      0.64      4338\n",
      "                        Event       0.35      0.06      0.10       352\n",
      "       General infrastructure       0.14      0.01      0.02       218\n",
      "   Increased passenger volume       0.00      0.00      0.00        33\n",
      "                Maliciousness       0.23      0.16      0.19      2400\n",
      "                    Operation       0.32      0.48      0.39      4634\n",
      "       Operational disruption       0.15      0.03      0.05       290\n",
      "           Personnel problems       0.00      0.00      0.00       141\n",
      "             Traffic accident       0.24      0.25      0.24      3181\n",
      "                  Traffic jam       0.50      0.44      0.46      1524\n",
      "Transportation infrastructure       0.22      0.03      0.05       306\n",
      "    Vehicle in poor condition       0.22      0.10      0.14      2296\n",
      "                      Weather       0.43      0.08      0.14        36\n",
      "\n",
      "                     accuracy                           0.37     19878\n",
      "                    macro avg       0.25      0.16      0.17     19878\n",
      "                 weighted avg       0.35      0.37      0.35     19878\n",
      "\n"
     ]
    }
   ],
   "source": [
    "#\n",
    "# <<< INSERT CODE HERE >>>\n",
    "#\n",
    "\n",
    "from sklearn.metrics import classification_report\n",
    "\n",
    "# Generate the classification report with disruption names\n",
    "\n",
    "report = classification_report(y_true, y_pred, zero_division=0)\n",
    "print(report)"
   ]
  },
  {
   "cell_type": "code",
   "execution_count": 68,
   "metadata": {
    "deletable": false,
    "nbgrader": {
     "cell_type": "code",
     "checksum": "044f2b4b8bf95fef6a1b0eb7f7ef1c8b",
     "grade": false,
     "grade_id": "cell-dd620bac1fe09f41",
     "locked": false,
     "schema_version": 3,
     "solution": true,
     "task": false
    },
    "revert": "from sklearn.metrics import multilabel_confusion_matrix\n\n# YOUR CODE HERE\nraise NotImplementedError()"
   },
   "outputs": [],
   "source": [
    "from sklearn.metrics import multilabel_confusion_matrix"
   ]
  },
  {
   "cell_type": "code",
   "execution_count": 69,
   "metadata": {
    "deletable": false,
    "nbgrader": {
     "cell_type": "code",
     "checksum": "654f55d2170bb37aeab647ed9dd01511",
     "grade": true,
     "grade_id": "cell-c3770740785db334",
     "locked": false,
     "points": 1,
     "schema_version": 3,
     "solution": true,
     "task": false
    },
    "revert": "labels = data_processed['disruption'].unique()\n\n# Plot the confusion matrix that was generated in the cell before in a nice format. Each class should have its own representation.\n\ndef plot_confusion_matrix(cm, class_name):\n    \n    # YOUR CODE HERE\n    raise NotImplementedError()\n\nfor class_name in labels:\n    class_index = data_processed[data_processed['disruption'] == class_name]['class'].iloc[0]\n    class_cm = cm[class_index, :, :]\n    plot_confusion_matrix(class_cm, class_name)"
   },
   "outputs": [
    {
     "data": {
      "image/png": "[encoded data removed]",
      "text/plain": [
       "<Figure size 1500x900 with 2 Axes>"
      ]
     },
     "metadata": {},
     "output_type": "display_data"
    }
   ],
   "source": [
    "#\n",
    "# <<< INSERT CODE HERE >>>\n",
    "#\n",
    "\n",
    "# Plot the confusion matrix that was generated in the cell before in a nice format. Each class should have its own representation.\n",
    "\n",
    "from sklearn.metrics import confusion_matrix\n",
    "\n",
    "labels = data_processed[\"disruption\"].unique()\n",
    "\n",
    "cm = confusion_matrix(y_true, y_pred, labels=labels)\n",
    "\n",
    "plt.figure(figsize=(15, 9))\n",
    "sns.heatmap(cm, annot=True, fmt=\"d\", cmap=\"viridis\", xticklabels=labels, yticklabels=labels)\n",
    "plt.title(\"Combined Confusion Matrix\")\n",
    "plt.ylabel(\"True Label\")\n",
    "plt.xlabel(\"Predicted Label\")\n",
    "plt.xticks(rotation=45, ha=\"right\")\n",
    "plt.yticks(rotation=0)\n",
    "plt.tight_layout()\n",
    "plt.show()"
   ]
  },
  {
   "cell_type": "markdown",
   "metadata": {
    "deletable": false,
    "editable": false,
    "id": "zDfgnPe5uJgw",
    "nbgrader": {
     "cell_type": "markdown",
     "checksum": "fa88f4e88fa21c6230d584bafec99553",
     "grade": false,
     "grade_id": "cell-ce02f40a0e3d7df6",
     "locked": true,
     "schema_version": 3,
     "solution": false,
     "task": false
    },
    "slideshow": {
     "slide_type": ""
    },
    "tags": []
   },
   "source": [
    "## Task 8: Test model on unknown data (5 Points)\n",
    "\n",
    "Use the test data created in Section 7.1 and predict traffic disruptions for this data using the best model you found on the training data."
   ]
  },
  {
   "cell_type": "code",
   "execution_count": 70,
   "metadata": {
    "colab": {
     "base_uri": "https://localhost:8080/",
     "height": 301
    },
    "deletable": false,
    "editable": false,
    "id": "LZSaPMq6uJgx",
    "nbgrader": {
     "cell_type": "code",
     "checksum": "1b322a081960ef0b5d74e43cb3be6327",
     "grade": false,
     "grade_id": "cell-62a796dd6223600b",
     "locked": true,
     "schema_version": 3,
     "solution": false,
     "task": false
    },
    "outputId": "bf92adbe-6de0-474f-d6bc-357bf7b89f96",
    "slideshow": {
     "slide_type": ""
    },
    "tags": []
   },
   "outputs": [
    {
     "name": "stdout",
     "output_type": "stream",
     "text": [
      "<class 'pandas.core.frame.DataFrame'>\n",
      "MultiIndex: 13252 entries, (2023, 2, 9) to (2017, 1, 14)\n",
      "Data columns (total 16 columns):\n",
      " #   Column            Non-Null Count  Dtype  \n",
      "---  ------            --------------  -----  \n",
      " 0   temp_dailyMin     13252 non-null  float64\n",
      " 1   temp_dailyMax     13252 non-null  float64\n",
      " 2   temp_dailyMean    13252 non-null  float64\n",
      " 3   temp_dailyMedian  13252 non-null  float64\n",
      " 4   hum_dailyMin      13252 non-null  int64  \n",
      " 5   hum_dailyMax      13252 non-null  int64  \n",
      " 6   hum_dailyMean     13252 non-null  float64\n",
      " 7   wind_dailyMin     13252 non-null  int64  \n",
      " 8   wind_dailyMax     13252 non-null  int64  \n",
      " 9   wind_dailyMean    13252 non-null  float64\n",
      " 10  precip            13252 non-null  float64\n",
      " 11  bus               13252 non-null  bool   \n",
      " 12  subway            13252 non-null  bool   \n",
      " 13  tram              13252 non-null  bool   \n",
      " 14  duration          13252 non-null  float64\n",
      " 15  class             13252 non-null  object \n",
      "dtypes: bool(3), float64(8), int64(4), object(1)\n",
      "memory usage: 1.4+ MB\n"
     ]
    }
   ],
   "source": [
    "data_test.info()"
   ]
  },
  {
   "cell_type": "code",
   "execution_count": 71,
   "metadata": {
    "deletable": false,
    "editable": false,
    "nbgrader": {
     "cell_type": "code",
     "checksum": "13bb210e05daf2cddeec39ab16b2df27",
     "grade": false,
     "grade_id": "cell-44650a0371bfa845",
     "locked": true,
     "schema_version": 3,
     "solution": false,
     "task": false
    },
    "slideshow": {
     "slide_type": ""
    },
    "tags": []
   },
   "outputs": [
    {
     "data": {
      "text/plain": [
       "array(['Operation', 'Maliciousness', 'Delay', 'Vehicle in poor condition',\n",
       "       'Traffic accident', 'Personnel problems',\n",
       "       'Transportation infrastructure', 'General infrastructure',\n",
       "       'Increased passenger volume', 'Traffic jam', 'Event', 'Weather',\n",
       "       'Construction work', 'Operational disruption', 'Contamination'],\n",
       "      dtype=object)"
      ]
     },
     "execution_count": 71,
     "metadata": {},
     "output_type": "execute_result"
    }
   ],
   "source": [
    "disruption_types = data_processed['class'].unique()\n",
    "disruption_types"
   ]
  },
  {
   "cell_type": "markdown",
   "metadata": {
    "deletable": false,
    "editable": false,
    "id": "qrHQGXGwuJg0",
    "nbgrader": {
     "cell_type": "markdown",
     "checksum": "d98ee497e093fe21586822e37a1be7a2",
     "grade": false,
     "grade_id": "cell-106d60cfe48acf5e",
     "locked": true,
     "schema_version": 3,
     "solution": false,
     "task": false
    }
   },
   "source": [
    "### 8.1 Train & predict with best model"
   ]
  },
  {
   "cell_type": "markdown",
   "metadata": {
    "deletable": false,
    "editable": false,
    "nbgrader": {
     "cell_type": "markdown",
     "checksum": "78e5b5fb9654a85c55ba87d14ee7f084",
     "grade": false,
     "grade_id": "cell-3c71e4b28f609098",
     "locked": true,
     "schema_version": 3,
     "solution": false,
     "task": false
    },
    "slideshow": {
     "slide_type": ""
    },
    "tags": []
   },
   "source": [
    "Set your best model"
   ]
  },
  {
   "cell_type": "code",
   "execution_count": 72,
   "metadata": {
    "deletable": false,
    "editable": true,
    "nbgrader": {
     "cell_type": "code",
     "checksum": "4066552b177559e7fe35874f94be373e",
     "grade": false,
     "grade_id": "cell-673ed4681d3524ba",
     "locked": false,
     "schema_version": 3,
     "solution": true,
     "task": false
    },
    "revert": "best_model = None\n# YOUR CODE HERE\nraise NotImplementedError()",
    "slideshow": {
     "slide_type": ""
    },
    "tags": []
   },
   "outputs": [],
   "source": [
    "# \n",
    "# <<< INSERT CODE HERE >>>\n",
    "# \n",
    "\n",
    "def create_best_model(random_state=42):\n",
    "    from sklearn.pipeline import Pipeline\n",
    "    from sklearn.feature_selection import VarianceThreshold\n",
    "\n",
    "    pipeline = Pipeline([(\"feature_selection\", VarianceThreshold()), (\"scaler\", StandardScaler()), (\"classifier\", RandomForestClassifier(n_estimators=200, max_depth=20, min_samples_split=5, random_state=random_state))])\n",
    "\n",
    "    return pipeline\n",
    "\n",
    "\n",
    "best_model = create_best_model()"
   ]
  },
  {
   "cell_type": "code",
   "execution_count": 73,
   "metadata": {
    "deletable": false,
    "editable": false,
    "nbgrader": {
     "cell_type": "code",
     "checksum": "bd414879522b51866d7a47f082859ebd",
     "grade": false,
     "grade_id": "cell-00ee79a087bd4d3b",
     "locked": true,
     "schema_version": 3,
     "solution": false,
     "task": false
    },
    "slideshow": {
     "slide_type": ""
    },
    "tags": []
   },
   "outputs": [],
   "source": [
    "assert isinstance(best_model, sklearn.pipeline.Pipeline) or isinstance(best_model,tuple(all_methods))"
   ]
  },
  {
   "cell_type": "code",
   "execution_count": 74,
   "metadata": {
    "deletable": false,
    "editable": true,
    "id": "uf77zCzUuJg0",
    "nbgrader": {
     "cell_type": "code",
     "checksum": "08a5c49bae6fdec83a70620b05cfdbdd",
     "grade": false,
     "grade_id": "cell-596af1d33c33819e",
     "locked": false,
     "schema_version": 3,
     "solution": true,
     "task": false
    },
    "revert": "def train_and_predict(best_model, train_data: pd.DataFrame, test_data: pd.DataFrame):\n  predictions = None\n  #probabilities = None\n  # YOUR CODE HERE\n  raise NotImplementedError()\n  return predictions #, probabilities",
    "slideshow": {
     "slide_type": ""
    },
    "tags": []
   },
   "outputs": [],
   "source": [
    "# \n",
    "# <<< INSERT CODE HERE >>>\n",
    "# \n",
    "\n",
    "def train_and_predict(best_model, train_data: pd.DataFrame, test_data: pd.DataFrame):\n",
    "    X_train = train_data.drop(\"class\", axis=1)\n",
    "    y_train = train_data[\"class\"]\n",
    "\n",
    "    label_encoder = LabelEncoder()\n",
    "    y_train_encoded = label_encoder.fit_transform(y_train)\n",
    "\n",
    "    best_model.fit(X_train, y_train_encoded)\n",
    "\n",
    "    predictions_encoded = best_model.predict(test_data)\n",
    "\n",
    "    predictions = label_encoder.inverse_transform(predictions_encoded)\n",
    "\n",
    "    return predictions"
   ]
  },
  {
   "cell_type": "code",
   "execution_count": 75,
   "metadata": {
    "deletable": false,
    "editable": false,
    "id": "vX5FMr3cJUBp",
    "nbgrader": {
     "cell_type": "code",
     "checksum": "edb90abfc0ef8615d5092fe5ee43605a",
     "grade": false,
     "grade_id": "cell-79e205c950c5d7c3",
     "locked": true,
     "schema_version": 3,
     "solution": false,
     "task": false
    },
    "slideshow": {
     "slide_type": ""
    },
    "tags": []
   },
   "outputs": [],
   "source": [
    "# train with train data, predict on hidden test data. For hidden test data, we do not provide the weekly_infections values, of course!\n",
    "unknown_prediction = train_and_predict(best_model, data_train, data_test.drop('class', axis=1)) "
   ]
  },
  {
   "cell_type": "code",
   "execution_count": 76,
   "metadata": {
    "deletable": false,
    "editable": false,
    "nbgrader": {
     "cell_type": "code",
     "checksum": "be2246bd39f9ab3c18ce9f17c8e192d1",
     "grade": true,
     "grade_id": "cell-6dbeac915809e0c2",
     "locked": true,
     "points": 2,
     "schema_version": 3,
     "solution": false,
     "task": false
    },
    "slideshow": {
     "slide_type": ""
    },
    "tags": []
   },
   "outputs": [],
   "source": [
    "# hidden tests, DO NOT MODIFY OR COPY THIS CELL!!"
   ]
  },
  {
   "cell_type": "code",
   "execution_count": 77,
   "metadata": {
    "deletable": false,
    "editable": false,
    "nbgrader": {
     "cell_type": "code",
     "checksum": "092d1852b0a960c4428eb0379f47c69d",
     "grade": false,
     "grade_id": "cell-9932f2f2cc85ef89",
     "locked": true,
     "schema_version": 3,
     "solution": false,
     "task": false
    },
    "slideshow": {
     "slide_type": ""
    },
    "tags": []
   },
   "outputs": [
    {
     "data": {
      "text/plain": [
       "array(['Construction work', 'Contamination', 'Delay', 'Event',\n",
       "       'General infrastructure', 'Increased passenger volume',\n",
       "       'Maliciousness', 'Operation', 'Operational disruption',\n",
       "       'Personnel problems', 'Traffic accident', 'Traffic jam',\n",
       "       'Transportation infrastructure', 'Vehicle in poor condition',\n",
       "       'Weather'], dtype=object)"
      ]
     },
     "execution_count": 77,
     "metadata": {},
     "output_type": "execute_result"
    }
   ],
   "source": [
    "disruption_preds = np.unique(unknown_prediction)\n",
    "disruption_preds"
   ]
  },
  {
   "cell_type": "code",
   "execution_count": 78,
   "metadata": {
    "colab": {
     "base_uri": "https://localhost:8080/"
    },
    "deletable": false,
    "editable": false,
    "id": "hpIBjl5gKM_V",
    "nbgrader": {
     "cell_type": "code",
     "checksum": "04f9e12085f55e1ccc22dedc70b172e6",
     "grade": false,
     "grade_id": "cell-229f1d7613e4dd98",
     "locked": true,
     "schema_version": 3,
     "solution": false,
     "task": false
    },
    "outputId": "c8174191-0887-441b-d456-479c744cab73",
    "slideshow": {
     "slide_type": ""
    },
    "tags": []
   },
   "outputs": [],
   "source": [
    "assert len(unknown_prediction.shape) == 1, \"Predictions should only have 1 column!\"\n",
    "assert unknown_prediction.shape[0] == data_test.shape[0], \"Predictions should have the same number of columns as test data!\""
   ]
  },
  {
   "cell_type": "code",
   "execution_count": 79,
   "metadata": {
    "deletable": false,
    "editable": false,
    "nbgrader": {
     "cell_type": "code",
     "checksum": "cbb1c8b87e7368fec344efae7bd1622d",
     "grade": true,
     "grade_id": "cell-24f861cdfaa58683",
     "locked": true,
     "points": 1,
     "schema_version": 3,
     "solution": false,
     "task": false
    },
    "slideshow": {
     "slide_type": ""
    },
    "tags": []
   },
   "outputs": [],
   "source": [
    "# hidden tests, DO NOT MODIFY OR COPY THIS CELL!!\n",
    "\n"
   ]
  },
  {
   "cell_type": "markdown",
   "metadata": {
    "deletable": false,
    "editable": false,
    "nbgrader": {
     "cell_type": "markdown",
     "checksum": "aaadbfba683131b8bcd8bfb32e1ab7d9",
     "grade": false,
     "grade_id": "cell-1035377d51d46863",
     "locked": true,
     "schema_version": 3,
     "solution": false,
     "task": false
    },
    "slideshow": {
     "slide_type": ""
    },
    "tags": []
   },
   "source": [
    "### 8.2 Visualize Results"
   ]
  },
  {
   "cell_type": "markdown",
   "metadata": {
    "deletable": false,
    "editable": false,
    "id": "OqLLQezr1fqW",
    "nbgrader": {
     "cell_type": "markdown",
     "checksum": "5e60cb32f4c2035092a098a50fbda85d",
     "grade": false,
     "grade_id": "cell-e083102f59220478",
     "locked": true,
     "schema_version": 3,
     "solution": false,
     "task": false
    },
    "slideshow": {
     "slide_type": ""
    },
    "tags": []
   },
   "source": [
    "* Present the model performance on the test dataset by using one or more metrics from Section 7.3. \n",
    "* Use two meaningful representations for the results, e.g. classification report and confusion matrix."
   ]
  },
  {
   "cell_type": "code",
   "execution_count": 80,
   "metadata": {
    "deletable": false,
    "editable": true,
    "nbgrader": {
     "cell_type": "code",
     "checksum": "423ef3960599ef882d20815c1c07d206",
     "grade": false,
     "grade_id": "cell-c8ef7262b87b1c10",
     "locked": false,
     "schema_version": 3,
     "solution": true,
     "task": false
    },
    "revert": "# First plot\n# YOUR CODE HERE\nraise NotImplementedError()",
    "slideshow": {
     "slide_type": ""
    },
    "tags": []
   },
   "outputs": [
    {
     "data": {
      "image/png": "[encoded data removed]",
      "text/plain": [
       "<Figure size 1500x700 with 2 Axes>"
      ]
     },
     "metadata": {},
     "output_type": "display_data"
    },
    {
     "name": "stderr",
     "output_type": "stream",
     "text": [
      "/opt/conda/lib/python3.11/site-packages/sklearn/metrics/_classification.py:1531: UndefinedMetricWarning: Precision is ill-defined and being set to 0.0 in labels with no predicted samples. Use `zero_division` parameter to control this behavior.\n",
      "  _warn_prf(average, modifier, f\"{metric.capitalize()} is\", len(result))\n",
      "/opt/conda/lib/python3.11/site-packages/sklearn/metrics/_classification.py:1531: UndefinedMetricWarning: Precision is ill-defined and being set to 0.0 in labels with no predicted samples. Use `zero_division` parameter to control this behavior.\n",
      "  _warn_prf(average, modifier, f\"{metric.capitalize()} is\", len(result))\n",
      "/opt/conda/lib/python3.11/site-packages/sklearn/metrics/_classification.py:1531: UndefinedMetricWarning: Precision is ill-defined and being set to 0.0 in labels with no predicted samples. Use `zero_division` parameter to control this behavior.\n",
      "  _warn_prf(average, modifier, f\"{metric.capitalize()} is\", len(result))\n"
     ]
    },
    {
     "data": {
      "image/png": "[encoded data removed]",
      "text/plain": [
       "<Figure size 1500x600 with 1 Axes>"
      ]
     },
     "metadata": {},
     "output_type": "display_data"
    }
   ],
   "source": [
    "#\n",
    "# <<< INSERT CODE HERE >>>\n",
    "#\n",
    "\n",
    "\n",
    "def plot_confusion_matrix(y_true, y_pred, classes):\n",
    "    plt.figure(figsize=(15, 7))\n",
    "    cm = confusion_matrix(y_true, y_pred)\n",
    "    sns.heatmap(cm, annot=True, fmt=\"d\", cmap=\"Blues\", xticklabels=classes, yticklabels=classes)\n",
    "    plt.ylabel(\"True label\")\n",
    "    plt.xlabel(\"Predicted label\")\n",
    "    plt.title(\"Confusion Matrix\")\n",
    "    plt.show()\n",
    "\n",
    "\n",
    "def plot_classification_metrics(y_true, y_pred):\n",
    "    report = classification_report(y_true, y_pred, output_dict=True)\n",
    "    report_df = pd.DataFrame(report).transpose()\n",
    "    class_metrics = report_df.iloc[:-3]\n",
    "\n",
    "    plt.figure(figsize=(15, 6))\n",
    "    sns.barplot(x=class_metrics.index, y=class_metrics[\"f1-score\"])\n",
    "    plt.title(\"Classification Report: F1 Score by Class\")\n",
    "    plt.xlabel(\"Class\")\n",
    "    plt.ylabel(\"F1 Score\")\n",
    "    plt.xticks(rotation=90)\n",
    "    plt.ylim(0, 1)\n",
    "    plt.show()\n",
    "\n",
    "\n",
    "plot_confusion_matrix(y_true, y_pred, disruption_types)\n",
    "plot_classification_metrics(y_true, y_pred)"
   ]
  },
  {
   "cell_type": "code",
   "execution_count": null,
   "metadata": {
    "deletable": false,
    "editable": true,
    "nbgrader": {
     "cell_type": "code",
     "checksum": "494473a4eeb50fa9b97c4d309134ce08",
     "grade": false,
     "grade_id": "cell-33591fa68c61ad47",
     "locked": false,
     "schema_version": 3,
     "solution": true,
     "task": false
    },
    "revert": "# Second plot\n# YOUR CODE HERE\nraise NotImplementedError()",
    "slideshow": {
     "slide_type": ""
    },
    "tags": []
   },
   "outputs": [],
   "source": []
  },
  {
   "cell_type": "code",
   "execution_count": 81,
   "metadata": {
    "deletable": false,
    "editable": false,
    "nbgrader": {
     "cell_type": "code",
     "checksum": "d93c66ad90b4077e33b86ba076bc75bd",
     "grade": true,
     "grade_id": "cell-0640084904057fea",
     "locked": true,
     "points": 2,
     "schema_version": 3,
     "solution": false,
     "task": false
    },
    "slideshow": {
     "slide_type": ""
    },
    "tags": []
   },
   "outputs": [],
   "source": [
    "# hidden tests, DO NOT MODIFY OR COPY THIS CELL!!"
   ]
  },
  {
   "cell_type": "code",
   "execution_count": null,
   "metadata": {},
   "outputs": [],
   "source": []
  }
 ],
 "metadata": {
  "colab": {
   "collapsed_sections": [],
   "provenance": [],
   "toc_visible": false
  },
  "hide_input": false,
  "kernelspec": {
   "display_name": "Python 3 (ipykernel)",
   "language": "python",
   "name": "python3"
  },
  "language_info": {
   "codemirror_mode": {
    "name": "ipython",
    "version": 3
   },
   "file_extension": ".py",
   "mimetype": "text/x-python",
   "name": "python",
   "nbconvert_exporter": "python",
   "pygments_lexer": "ipython3",
   "version": "3.11.10"
  },
  "toc": {
   "base_numbering": 1,
   "nav_menu": {},
   "number_sections": false,
   "sideBar": true,
   "skip_h1_title": false,
   "title_cell": "Table of Contents",
   "title_sidebar": "Contents",
   "toc_cell": false,
   "toc_position": {},
   "toc_section_display": true,
   "toc_window_display": false
  }
 },
 "nbformat": 4,
 "nbformat_minor": 4
}
